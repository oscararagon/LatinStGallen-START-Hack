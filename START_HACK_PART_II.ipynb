{
  "nbformat": 4,
  "nbformat_minor": 0,
  "metadata": {
    "colab": {
      "provenance": []
    },
    "kernelspec": {
      "name": "python3",
      "display_name": "Python 3"
    },
    "language_info": {
      "name": "python"
    },
    "widgets": {
      "application/vnd.jupyter.widget-state+json": {
        "85a07089ff8c4fbcb9cf39e72cf2892f": {
          "model_module": "jupyter-leaflet",
          "model_name": "LeafletMapModel",
          "model_module_version": "^0.18",
          "state": {
            "_dom_classes": [],
            "_model_module": "jupyter-leaflet",
            "_model_module_version": "^0.18",
            "_model_name": "LeafletMapModel",
            "_view_count": null,
            "_view_module": "jupyter-leaflet",
            "_view_module_version": "^0.18",
            "_view_name": "LeafletMapView",
            "bottom": 2462,
            "bounce_at_zoom_limits": true,
            "box_zoom": true,
            "center": [
              -10,
              -55
            ],
            "close_popup_on_click": true,
            "controls": [
              "IPY_MODEL_f2d25fc565064f08947b748bbc919343",
              "IPY_MODEL_1f4ed3c0695348da91c94afdab91e60f",
              "IPY_MODEL_28ddf8ffc62d4299bc87956df2f91cb4",
              "IPY_MODEL_b932fc2987974d2fb40a37d5750c7023",
              "IPY_MODEL_c1ca0d0704ee4f13b4802bfbc7fa67db",
              "IPY_MODEL_bd840d6dbf5e4041be9bc25490162f43",
              "IPY_MODEL_a4cfaf53f5aa418ba1dc4cf7c87aad18",
              "IPY_MODEL_981e1524ce0141a3ae09481cd4d9944e",
              "IPY_MODEL_ee95024d9632422083be1a0df6fb6858"
            ],
            "crs": {
              "name": "EPSG3857",
              "custom": false
            },
            "default_style": "IPY_MODEL_7e6bb7d294274f57a4c382f120127ce0",
            "double_click_zoom": true,
            "dragging": true,
            "dragging_style": "IPY_MODEL_ad0d463844844d3e9e979d8f191ca9b4",
            "east": -5.009765625000001,
            "fullscreen": false,
            "inertia": true,
            "inertia_deceleration": 3000,
            "inertia_max_speed": 1500,
            "interpolation": "bilinear",
            "keyboard": true,
            "keyboard_pan_offset": 80,
            "keyboard_zoom_offset": 1,
            "layers": [
              "IPY_MODEL_c1febcf1e6bf4d37bb22d24b2c3c863c",
              "IPY_MODEL_723e2def7e754a94aec1a7fb55942a7a",
              "IPY_MODEL_64af3877a3e248bc89e165599157995a",
              "IPY_MODEL_ef21381521fa4494a6d288fc59dee84a",
              "IPY_MODEL_aba4141b1c074db399345bb47c557cea",
              "IPY_MODEL_4ee8a2faac474f72b502a552682724a1",
              "IPY_MODEL_d7655c95372d47cda72d399e920d7853",
              "IPY_MODEL_f36508d1ee7f46cfa95be733447b9723",
              "IPY_MODEL_5dca74e531fc45ea95aedf49a26dc1a9"
            ],
            "layout": "IPY_MODEL_96d6a6cc5c5b45ef8af375ac7b6f5d1d",
            "left": 854,
            "max_zoom": 24,
            "min_zoom": null,
            "modisdate": "2024-03-19",
            "north": 16.13026201203477,
            "options": [
              "bounce_at_zoom_limits",
              "box_zoom",
              "center",
              "close_popup_on_click",
              "double_click_zoom",
              "dragging",
              "fullscreen",
              "inertia",
              "inertia_deceleration",
              "inertia_max_speed",
              "interpolation",
              "keyboard",
              "keyboard_pan_offset",
              "keyboard_zoom_offset",
              "max_zoom",
              "min_zoom",
              "prefer_canvas",
              "scroll_wheel_zoom",
              "tap",
              "tap_tolerance",
              "touch_zoom",
              "world_copy_jump",
              "zoom",
              "zoom_animation_threshold",
              "zoom_delta",
              "zoom_snap"
            ],
            "panes": {},
            "prefer_canvas": false,
            "right": 1991,
            "scroll_wheel_zoom": true,
            "south": -34.16181816123038,
            "style": "IPY_MODEL_8508f14c19f04862aa8022695f0ee478",
            "tap": true,
            "tap_tolerance": 15,
            "top": 1862,
            "touch_zoom": true,
            "west": -104.94140625000001,
            "window_url": "https://zbtkyzq3diq-496ff2e9c6d22116-0-colab.googleusercontent.com/outputframe.html?vrz=colab_20240318-060130_RC00_616776980",
            "world_copy_jump": false,
            "zoom": 4,
            "zoom_animation_threshold": 4,
            "zoom_delta": 1,
            "zoom_snap": 1
          }
        },
        "f2d25fc565064f08947b748bbc919343": {
          "model_module": "jupyter-leaflet",
          "model_name": "LeafletWidgetControlModel",
          "model_module_version": "^0.18",
          "state": {
            "_model_module": "jupyter-leaflet",
            "_model_module_version": "^0.18",
            "_model_name": "LeafletWidgetControlModel",
            "_view_count": null,
            "_view_module": "jupyter-leaflet",
            "_view_module_version": "^0.18",
            "_view_name": "LeafletWidgetControlView",
            "max_height": null,
            "max_width": null,
            "min_height": null,
            "min_width": null,
            "options": [
              "position",
              "transparent_bg"
            ],
            "position": "topleft",
            "transparent_bg": false,
            "widget": "IPY_MODEL_5b85c6cffe154c69922958da2b9238d9"
          }
        },
        "1f4ed3c0695348da91c94afdab91e60f": {
          "model_module": "jupyter-leaflet",
          "model_name": "LeafletZoomControlModel",
          "model_module_version": "^0.18",
          "state": {
            "_model_module": "jupyter-leaflet",
            "_model_module_version": "^0.18",
            "_model_name": "LeafletZoomControlModel",
            "_view_count": null,
            "_view_module": "jupyter-leaflet",
            "_view_module_version": "^0.18",
            "_view_name": "LeafletZoomControlView",
            "options": [
              "position",
              "zoom_in_text",
              "zoom_in_title",
              "zoom_out_text",
              "zoom_out_title"
            ],
            "position": "topleft",
            "zoom_in_text": "+",
            "zoom_in_title": "Zoom in",
            "zoom_out_text": "-",
            "zoom_out_title": "Zoom out"
          }
        },
        "28ddf8ffc62d4299bc87956df2f91cb4": {
          "model_module": "jupyter-leaflet",
          "model_name": "LeafletFullScreenControlModel",
          "model_module_version": "^0.18",
          "state": {
            "_model_module": "jupyter-leaflet",
            "_model_module_version": "^0.18",
            "_model_name": "LeafletFullScreenControlModel",
            "_view_count": null,
            "_view_module": "jupyter-leaflet",
            "_view_module_version": "^0.18",
            "_view_name": "LeafletFullScreenControlView",
            "options": [
              "position"
            ],
            "position": "topleft"
          }
        },
        "b932fc2987974d2fb40a37d5750c7023": {
          "model_module": "jupyter-leaflet",
          "model_name": "LeafletDrawControlModel",
          "model_module_version": "^0.18",
          "state": {
            "_model_module": "jupyter-leaflet",
            "_model_module_version": "^0.18",
            "_model_name": "LeafletDrawControlModel",
            "_view_count": null,
            "_view_module": "jupyter-leaflet",
            "_view_module_version": "^0.18",
            "_view_name": "LeafletDrawControlView",
            "circle": {},
            "circlemarker": {},
            "data": [],
            "edit": true,
            "marker": {
              "shapeOptions": {
                "color": "#3388ff"
              }
            },
            "options": [
              "position"
            ],
            "polygon": {
              "shapeOptions": {}
            },
            "polyline": {
              "shapeOptions": {}
            },
            "position": "topleft",
            "rectangle": {
              "shapeOptions": {
                "color": "#3388ff"
              }
            },
            "remove": true
          }
        },
        "c1ca0d0704ee4f13b4802bfbc7fa67db": {
          "model_module": "jupyter-leaflet",
          "model_name": "LeafletScaleControlModel",
          "model_module_version": "^0.18",
          "state": {
            "_model_module": "jupyter-leaflet",
            "_model_module_version": "^0.18",
            "_model_name": "LeafletScaleControlModel",
            "_view_count": null,
            "_view_module": "jupyter-leaflet",
            "_view_module_version": "^0.18",
            "_view_name": "LeafletScaleControlView",
            "imperial": true,
            "max_width": 100,
            "metric": true,
            "options": [
              "imperial",
              "max_width",
              "metric",
              "position",
              "update_when_idle"
            ],
            "position": "bottomleft",
            "update_when_idle": false
          }
        },
        "bd840d6dbf5e4041be9bc25490162f43": {
          "model_module": "jupyter-leaflet",
          "model_name": "LeafletMeasureControlModel",
          "model_module_version": "^0.18",
          "state": {
            "_custom_units": {},
            "_model_module": "jupyter-leaflet",
            "_model_module_version": "^0.18",
            "_model_name": "LeafletMeasureControlModel",
            "_view_count": null,
            "_view_module": "jupyter-leaflet",
            "_view_module_version": "^0.18",
            "_view_name": "LeafletMeasureControlView",
            "active_color": "orange",
            "capture_z_index": 10000,
            "completed_color": "#C8F2BE",
            "options": [
              "active_color",
              "capture_z_index",
              "completed_color",
              "popup_options",
              "position",
              "primary_area_unit",
              "primary_length_unit",
              "secondary_area_unit",
              "secondary_length_unit"
            ],
            "popup_options": {
              "className": "leaflet-measure-resultpopup",
              "autoPanPadding": [
                10,
                10
              ]
            },
            "position": "bottomleft",
            "primary_area_unit": "acres",
            "primary_length_unit": "kilometers",
            "secondary_area_unit": null,
            "secondary_length_unit": null
          }
        },
        "a4cfaf53f5aa418ba1dc4cf7c87aad18": {
          "model_module": "jupyter-leaflet",
          "model_name": "LeafletWidgetControlModel",
          "model_module_version": "^0.18",
          "state": {
            "_model_module": "jupyter-leaflet",
            "_model_module_version": "^0.18",
            "_model_name": "LeafletWidgetControlModel",
            "_view_count": null,
            "_view_module": "jupyter-leaflet",
            "_view_module_version": "^0.18",
            "_view_name": "LeafletWidgetControlView",
            "max_height": null,
            "max_width": null,
            "min_height": null,
            "min_width": null,
            "options": [
              "position",
              "transparent_bg"
            ],
            "position": "topright",
            "transparent_bg": false,
            "widget": "IPY_MODEL_82701a4a18bc4390bfd9d2b27f6f3ded"
          }
        },
        "981e1524ce0141a3ae09481cd4d9944e": {
          "model_module": "jupyter-leaflet",
          "model_name": "LeafletAttributionControlModel",
          "model_module_version": "^0.18",
          "state": {
            "_model_module": "jupyter-leaflet",
            "_model_module_version": "^0.18",
            "_model_name": "LeafletAttributionControlModel",
            "_view_count": null,
            "_view_module": "jupyter-leaflet",
            "_view_module_version": "^0.18",
            "_view_name": "LeafletAttributionControlView",
            "options": [
              "position",
              "prefix"
            ],
            "position": "bottomright",
            "prefix": "ipyleaflet"
          }
        },
        "ee95024d9632422083be1a0df6fb6858": {
          "model_module": "jupyter-leaflet",
          "model_name": "LeafletLayersControlModel",
          "model_module_version": "^0.18",
          "state": {
            "_model_module": "jupyter-leaflet",
            "_model_module_version": "^0.18",
            "_model_name": "LeafletLayersControlModel",
            "_view_count": null,
            "_view_module": "jupyter-leaflet",
            "_view_module_version": "^0.18",
            "_view_name": "LeafletLayersControlView",
            "collapsed": true,
            "options": [
              "collapsed",
              "position"
            ],
            "position": "topright"
          }
        },
        "7e6bb7d294274f57a4c382f120127ce0": {
          "model_module": "jupyter-leaflet",
          "model_name": "LeafletMapStyleModel",
          "model_module_version": "^0.18",
          "state": {
            "_model_module": "jupyter-leaflet",
            "_model_module_version": "^0.18",
            "_model_name": "LeafletMapStyleModel",
            "_view_count": null,
            "_view_module": "@jupyter-widgets/base",
            "_view_module_version": "1.2.0",
            "_view_name": "StyleView",
            "cursor": "grab"
          }
        },
        "ad0d463844844d3e9e979d8f191ca9b4": {
          "model_module": "jupyter-leaflet",
          "model_name": "LeafletMapStyleModel",
          "model_module_version": "^0.18",
          "state": {
            "_model_module": "jupyter-leaflet",
            "_model_module_version": "^0.18",
            "_model_name": "LeafletMapStyleModel",
            "_view_count": null,
            "_view_module": "@jupyter-widgets/base",
            "_view_module_version": "1.2.0",
            "_view_name": "StyleView",
            "cursor": "move"
          }
        },
        "c1febcf1e6bf4d37bb22d24b2c3c863c": {
          "model_module": "jupyter-leaflet",
          "model_name": "LeafletTileLayerModel",
          "model_module_version": "^0.18",
          "state": {
            "_model_module": "jupyter-leaflet",
            "_model_module_version": "^0.18",
            "_model_name": "LeafletTileLayerModel",
            "_view_count": null,
            "_view_module": "jupyter-leaflet",
            "_view_module_version": "^0.18",
            "_view_name": "LeafletTileLayerView",
            "attribution": "&copy; <a href=\"https://www.openstreetmap.org/copyright\">OpenStreetMap</a> contributors",
            "base": true,
            "bottom": true,
            "bounds": null,
            "detect_retina": false,
            "loading": false,
            "max_native_zoom": null,
            "max_zoom": 19,
            "min_native_zoom": null,
            "min_zoom": 1,
            "name": "OpenStreetMap.Mapnik",
            "no_wrap": false,
            "opacity": 1,
            "options": [
              "attribution",
              "bounds",
              "detect_retina",
              "max_native_zoom",
              "max_zoom",
              "min_native_zoom",
              "min_zoom",
              "no_wrap",
              "tile_size",
              "tms",
              "zoom_offset"
            ],
            "pane": "",
            "popup": null,
            "popup_max_height": null,
            "popup_max_width": 300,
            "popup_min_width": 50,
            "show_loading": false,
            "subitems": [],
            "tile_size": 256,
            "tms": false,
            "url": "https://tile.openstreetmap.org/{z}/{x}/{y}.png",
            "visible": true,
            "zoom_offset": 0
          }
        },
        "723e2def7e754a94aec1a7fb55942a7a": {
          "model_module": "jupyter-leaflet",
          "model_name": "LeafletTileLayerModel",
          "model_module_version": "^0.18",
          "state": {
            "_model_module": "jupyter-leaflet",
            "_model_module_version": "^0.18",
            "_model_name": "LeafletTileLayerModel",
            "_view_count": null,
            "_view_module": "jupyter-leaflet",
            "_view_module_version": "^0.18",
            "_view_name": "LeafletTileLayerView",
            "attribution": "Google Earth Engine",
            "base": false,
            "bottom": true,
            "bounds": null,
            "detect_retina": false,
            "loading": false,
            "max_native_zoom": null,
            "max_zoom": 24,
            "min_native_zoom": null,
            "min_zoom": 0,
            "name": "MODIS Land Cover 2014",
            "no_wrap": false,
            "opacity": 1,
            "options": [
              "attribution",
              "bounds",
              "detect_retina",
              "max_native_zoom",
              "max_zoom",
              "min_native_zoom",
              "min_zoom",
              "no_wrap",
              "tile_size",
              "tms",
              "zoom_offset"
            ],
            "pane": "",
            "popup": null,
            "popup_max_height": null,
            "popup_max_width": 300,
            "popup_min_width": 50,
            "show_loading": false,
            "subitems": [],
            "tile_size": 256,
            "tms": false,
            "url": "https://earthengine.googleapis.com/v1/projects/ee-jimmyandrianinar/maps/db7c13580fb19bfccbd295411ebff6e1-fdddde0dbebb8f5bd63d730c2a9d30d3/tiles/{z}/{x}/{y}",
            "visible": true,
            "zoom_offset": 0
          }
        },
        "64af3877a3e248bc89e165599157995a": {
          "model_module": "jupyter-leaflet",
          "model_name": "LeafletTileLayerModel",
          "model_module_version": "^0.18",
          "state": {
            "_model_module": "jupyter-leaflet",
            "_model_module_version": "^0.18",
            "_model_name": "LeafletTileLayerModel",
            "_view_count": null,
            "_view_module": "jupyter-leaflet",
            "_view_module_version": "^0.18",
            "_view_name": "LeafletTileLayerView",
            "attribution": "Google Earth Engine",
            "base": false,
            "bottom": true,
            "bounds": null,
            "detect_retina": false,
            "loading": false,
            "max_native_zoom": null,
            "max_zoom": 24,
            "min_native_zoom": null,
            "min_zoom": 0,
            "name": "MODIS Land Cover 2015",
            "no_wrap": false,
            "opacity": 1,
            "options": [
              "attribution",
              "bounds",
              "detect_retina",
              "max_native_zoom",
              "max_zoom",
              "min_native_zoom",
              "min_zoom",
              "no_wrap",
              "tile_size",
              "tms",
              "zoom_offset"
            ],
            "pane": "",
            "popup": null,
            "popup_max_height": null,
            "popup_max_width": 300,
            "popup_min_width": 50,
            "show_loading": false,
            "subitems": [],
            "tile_size": 256,
            "tms": false,
            "url": "https://earthengine.googleapis.com/v1/projects/ee-jimmyandrianinar/maps/c4293684f059ea77aab6c752ae4f1988-21c1767431676ed1ab0c7fd8ff043cb3/tiles/{z}/{x}/{y}",
            "visible": true,
            "zoom_offset": 0
          }
        },
        "ef21381521fa4494a6d288fc59dee84a": {
          "model_module": "jupyter-leaflet",
          "model_name": "LeafletTileLayerModel",
          "model_module_version": "^0.18",
          "state": {
            "_model_module": "jupyter-leaflet",
            "_model_module_version": "^0.18",
            "_model_name": "LeafletTileLayerModel",
            "_view_count": null,
            "_view_module": "jupyter-leaflet",
            "_view_module_version": "^0.18",
            "_view_name": "LeafletTileLayerView",
            "attribution": "Google Earth Engine",
            "base": false,
            "bottom": true,
            "bounds": null,
            "detect_retina": false,
            "loading": false,
            "max_native_zoom": null,
            "max_zoom": 24,
            "min_native_zoom": null,
            "min_zoom": 0,
            "name": "MODIS Land Cover 2016",
            "no_wrap": false,
            "opacity": 1,
            "options": [
              "attribution",
              "bounds",
              "detect_retina",
              "max_native_zoom",
              "max_zoom",
              "min_native_zoom",
              "min_zoom",
              "no_wrap",
              "tile_size",
              "tms",
              "zoom_offset"
            ],
            "pane": "",
            "popup": null,
            "popup_max_height": null,
            "popup_max_width": 300,
            "popup_min_width": 50,
            "show_loading": false,
            "subitems": [],
            "tile_size": 256,
            "tms": false,
            "url": "https://earthengine.googleapis.com/v1/projects/ee-jimmyandrianinar/maps/f080de2aa4149b669f191d6aa2499faa-12853039971727b3fe6fff8975b649ef/tiles/{z}/{x}/{y}",
            "visible": true,
            "zoom_offset": 0
          }
        },
        "aba4141b1c074db399345bb47c557cea": {
          "model_module": "jupyter-leaflet",
          "model_name": "LeafletTileLayerModel",
          "model_module_version": "^0.18",
          "state": {
            "_model_module": "jupyter-leaflet",
            "_model_module_version": "^0.18",
            "_model_name": "LeafletTileLayerModel",
            "_view_count": null,
            "_view_module": "jupyter-leaflet",
            "_view_module_version": "^0.18",
            "_view_name": "LeafletTileLayerView",
            "attribution": "Google Earth Engine",
            "base": false,
            "bottom": true,
            "bounds": null,
            "detect_retina": false,
            "loading": false,
            "max_native_zoom": null,
            "max_zoom": 24,
            "min_native_zoom": null,
            "min_zoom": 0,
            "name": "MODIS Land Cover 2017",
            "no_wrap": false,
            "opacity": 1,
            "options": [
              "attribution",
              "bounds",
              "detect_retina",
              "max_native_zoom",
              "max_zoom",
              "min_native_zoom",
              "min_zoom",
              "no_wrap",
              "tile_size",
              "tms",
              "zoom_offset"
            ],
            "pane": "",
            "popup": null,
            "popup_max_height": null,
            "popup_max_width": 300,
            "popup_min_width": 50,
            "show_loading": false,
            "subitems": [],
            "tile_size": 256,
            "tms": false,
            "url": "https://earthengine.googleapis.com/v1/projects/ee-jimmyandrianinar/maps/16e43c59c4059cea8ecbce04383d42f6-694d83bece650da06df9b706a5d4265e/tiles/{z}/{x}/{y}",
            "visible": true,
            "zoom_offset": 0
          }
        },
        "4ee8a2faac474f72b502a552682724a1": {
          "model_module": "jupyter-leaflet",
          "model_name": "LeafletTileLayerModel",
          "model_module_version": "^0.18",
          "state": {
            "_model_module": "jupyter-leaflet",
            "_model_module_version": "^0.18",
            "_model_name": "LeafletTileLayerModel",
            "_view_count": null,
            "_view_module": "jupyter-leaflet",
            "_view_module_version": "^0.18",
            "_view_name": "LeafletTileLayerView",
            "attribution": "Google Earth Engine",
            "base": false,
            "bottom": true,
            "bounds": null,
            "detect_retina": false,
            "loading": false,
            "max_native_zoom": null,
            "max_zoom": 24,
            "min_native_zoom": null,
            "min_zoom": 0,
            "name": "MODIS Land Cover 2018",
            "no_wrap": false,
            "opacity": 1,
            "options": [
              "attribution",
              "bounds",
              "detect_retina",
              "max_native_zoom",
              "max_zoom",
              "min_native_zoom",
              "min_zoom",
              "no_wrap",
              "tile_size",
              "tms",
              "zoom_offset"
            ],
            "pane": "",
            "popup": null,
            "popup_max_height": null,
            "popup_max_width": 300,
            "popup_min_width": 50,
            "show_loading": false,
            "subitems": [],
            "tile_size": 256,
            "tms": false,
            "url": "https://earthengine.googleapis.com/v1/projects/ee-jimmyandrianinar/maps/6a482c82e74cc66c2631c16dec13328b-1302d04c3cbc575a71a79189ea63a0f3/tiles/{z}/{x}/{y}",
            "visible": true,
            "zoom_offset": 0
          }
        },
        "d7655c95372d47cda72d399e920d7853": {
          "model_module": "jupyter-leaflet",
          "model_name": "LeafletTileLayerModel",
          "model_module_version": "^0.18",
          "state": {
            "_model_module": "jupyter-leaflet",
            "_model_module_version": "^0.18",
            "_model_name": "LeafletTileLayerModel",
            "_view_count": null,
            "_view_module": "jupyter-leaflet",
            "_view_module_version": "^0.18",
            "_view_name": "LeafletTileLayerView",
            "attribution": "Google Earth Engine",
            "base": false,
            "bottom": true,
            "bounds": null,
            "detect_retina": false,
            "loading": false,
            "max_native_zoom": null,
            "max_zoom": 24,
            "min_native_zoom": null,
            "min_zoom": 0,
            "name": "MODIS Land Cover 2019",
            "no_wrap": false,
            "opacity": 1,
            "options": [
              "attribution",
              "bounds",
              "detect_retina",
              "max_native_zoom",
              "max_zoom",
              "min_native_zoom",
              "min_zoom",
              "no_wrap",
              "tile_size",
              "tms",
              "zoom_offset"
            ],
            "pane": "",
            "popup": null,
            "popup_max_height": null,
            "popup_max_width": 300,
            "popup_min_width": 50,
            "show_loading": false,
            "subitems": [],
            "tile_size": 256,
            "tms": false,
            "url": "https://earthengine.googleapis.com/v1/projects/ee-jimmyandrianinar/maps/d8dff24f70c63b45661758abf5ca483d-760ec5e02e11acc29442b02e8e665002/tiles/{z}/{x}/{y}",
            "visible": true,
            "zoom_offset": 0
          }
        },
        "f36508d1ee7f46cfa95be733447b9723": {
          "model_module": "jupyter-leaflet",
          "model_name": "LeafletTileLayerModel",
          "model_module_version": "^0.18",
          "state": {
            "_model_module": "jupyter-leaflet",
            "_model_module_version": "^0.18",
            "_model_name": "LeafletTileLayerModel",
            "_view_count": null,
            "_view_module": "jupyter-leaflet",
            "_view_module_version": "^0.18",
            "_view_name": "LeafletTileLayerView",
            "attribution": "Google Earth Engine",
            "base": false,
            "bottom": true,
            "bounds": null,
            "detect_retina": false,
            "loading": false,
            "max_native_zoom": null,
            "max_zoom": 24,
            "min_native_zoom": null,
            "min_zoom": 0,
            "name": "MODIS Land Cover 2020",
            "no_wrap": false,
            "opacity": 1,
            "options": [
              "attribution",
              "bounds",
              "detect_retina",
              "max_native_zoom",
              "max_zoom",
              "min_native_zoom",
              "min_zoom",
              "no_wrap",
              "tile_size",
              "tms",
              "zoom_offset"
            ],
            "pane": "",
            "popup": null,
            "popup_max_height": null,
            "popup_max_width": 300,
            "popup_min_width": 50,
            "show_loading": false,
            "subitems": [],
            "tile_size": 256,
            "tms": false,
            "url": "https://earthengine.googleapis.com/v1/projects/ee-jimmyandrianinar/maps/cad3718bb4e7a48287f1bf116169ea38-1ae2a40ad0d700ebc4b0af62b764e52e/tiles/{z}/{x}/{y}",
            "visible": true,
            "zoom_offset": 0
          }
        },
        "96d6a6cc5c5b45ef8af375ac7b6f5d1d": {
          "model_module": "@jupyter-widgets/base",
          "model_name": "LayoutModel",
          "model_module_version": "1.2.0",
          "state": {
            "_model_module": "@jupyter-widgets/base",
            "_model_module_version": "1.2.0",
            "_model_name": "LayoutModel",
            "_view_count": null,
            "_view_module": "@jupyter-widgets/base",
            "_view_module_version": "1.2.0",
            "_view_name": "LayoutView",
            "align_content": null,
            "align_items": null,
            "align_self": null,
            "border": null,
            "bottom": null,
            "display": null,
            "flex": null,
            "flex_flow": null,
            "grid_area": null,
            "grid_auto_columns": null,
            "grid_auto_flow": null,
            "grid_auto_rows": null,
            "grid_column": null,
            "grid_gap": null,
            "grid_row": null,
            "grid_template_areas": null,
            "grid_template_columns": null,
            "grid_template_rows": null,
            "height": "600px",
            "justify_content": null,
            "justify_items": null,
            "left": null,
            "margin": null,
            "max_height": null,
            "max_width": null,
            "min_height": null,
            "min_width": null,
            "object_fit": null,
            "object_position": null,
            "order": null,
            "overflow": null,
            "overflow_x": null,
            "overflow_y": null,
            "padding": null,
            "right": null,
            "top": null,
            "visibility": null,
            "width": null
          }
        },
        "8508f14c19f04862aa8022695f0ee478": {
          "model_module": "jupyter-leaflet",
          "model_name": "LeafletMapStyleModel",
          "model_module_version": "^0.18",
          "state": {
            "_model_module": "jupyter-leaflet",
            "_model_module_version": "^0.18",
            "_model_name": "LeafletMapStyleModel",
            "_view_count": null,
            "_view_module": "@jupyter-widgets/base",
            "_view_module_version": "1.2.0",
            "_view_name": "StyleView",
            "cursor": "grab"
          }
        },
        "5b85c6cffe154c69922958da2b9238d9": {
          "model_module": "@jupyter-widgets/controls",
          "model_name": "HBoxModel",
          "model_module_version": "1.5.0",
          "state": {
            "_dom_classes": [
              "geemap-colab"
            ],
            "_model_module": "@jupyter-widgets/controls",
            "_model_module_version": "1.5.0",
            "_model_name": "HBoxModel",
            "_view_count": null,
            "_view_module": "@jupyter-widgets/controls",
            "_view_module_version": "1.5.0",
            "_view_name": "HBoxView",
            "box_style": "",
            "children": [
              "IPY_MODEL_951c752a5a2c4b86a53340d675c43899"
            ],
            "layout": "IPY_MODEL_e86e07449ca44763b923998f77cd03c6"
          }
        },
        "82701a4a18bc4390bfd9d2b27f6f3ded": {
          "model_module": "@jupyter-widgets/controls",
          "model_name": "VBoxModel",
          "model_module_version": "1.5.0",
          "state": {
            "_dom_classes": [
              "geemap-colab"
            ],
            "_model_module": "@jupyter-widgets/controls",
            "_model_module_version": "1.5.0",
            "_model_name": "VBoxModel",
            "_view_count": null,
            "_view_module": "@jupyter-widgets/controls",
            "_view_module_version": "1.5.0",
            "_view_name": "VBoxView",
            "box_style": "",
            "children": [
              "IPY_MODEL_d32931d7433a441ca4a8938faecdc6a9"
            ],
            "layout": "IPY_MODEL_e978e60e25884f4fa338fefe11000fd4"
          }
        },
        "951c752a5a2c4b86a53340d675c43899": {
          "model_module": "@jupyter-widgets/controls",
          "model_name": "ToggleButtonModel",
          "model_module_version": "1.5.0",
          "state": {
            "_dom_classes": [],
            "_model_module": "@jupyter-widgets/controls",
            "_model_module_version": "1.5.0",
            "_model_name": "ToggleButtonModel",
            "_view_count": null,
            "_view_module": "@jupyter-widgets/controls",
            "_view_module_version": "1.5.0",
            "_view_name": "ToggleButtonView",
            "button_style": "",
            "description": "",
            "description_tooltip": null,
            "disabled": false,
            "icon": "globe",
            "layout": "IPY_MODEL_e68a1ef6a5ef4db6ae53475568e5dfa8",
            "style": "IPY_MODEL_94d9a968858741ff96a82b495a609a09",
            "tooltip": "Search location/data",
            "value": false
          }
        },
        "e86e07449ca44763b923998f77cd03c6": {
          "model_module": "@jupyter-widgets/base",
          "model_name": "LayoutModel",
          "model_module_version": "1.2.0",
          "state": {
            "_model_module": "@jupyter-widgets/base",
            "_model_module_version": "1.2.0",
            "_model_name": "LayoutModel",
            "_view_count": null,
            "_view_module": "@jupyter-widgets/base",
            "_view_module_version": "1.2.0",
            "_view_name": "LayoutView",
            "align_content": null,
            "align_items": null,
            "align_self": null,
            "border": null,
            "bottom": null,
            "display": null,
            "flex": null,
            "flex_flow": null,
            "grid_area": null,
            "grid_auto_columns": null,
            "grid_auto_flow": null,
            "grid_auto_rows": null,
            "grid_column": null,
            "grid_gap": null,
            "grid_row": null,
            "grid_template_areas": null,
            "grid_template_columns": null,
            "grid_template_rows": null,
            "height": null,
            "justify_content": null,
            "justify_items": null,
            "left": null,
            "margin": null,
            "max_height": null,
            "max_width": null,
            "min_height": null,
            "min_width": null,
            "object_fit": null,
            "object_position": null,
            "order": null,
            "overflow": null,
            "overflow_x": null,
            "overflow_y": null,
            "padding": null,
            "right": null,
            "top": null,
            "visibility": null,
            "width": null
          }
        },
        "d32931d7433a441ca4a8938faecdc6a9": {
          "model_module": "@jupyter-widgets/controls",
          "model_name": "ToggleButtonModel",
          "model_module_version": "1.5.0",
          "state": {
            "_dom_classes": [],
            "_model_module": "@jupyter-widgets/controls",
            "_model_module_version": "1.5.0",
            "_model_name": "ToggleButtonModel",
            "_view_count": null,
            "_view_module": "@jupyter-widgets/controls",
            "_view_module_version": "1.5.0",
            "_view_name": "ToggleButtonView",
            "button_style": "",
            "description": "",
            "description_tooltip": null,
            "disabled": false,
            "icon": "wrench",
            "layout": "IPY_MODEL_cb914e037c84407fafc0eaccab187caf",
            "style": "IPY_MODEL_56f24c14cd6845dfbb422557a9f7df15",
            "tooltip": "Toolbar",
            "value": false
          }
        },
        "e978e60e25884f4fa338fefe11000fd4": {
          "model_module": "@jupyter-widgets/base",
          "model_name": "LayoutModel",
          "model_module_version": "1.2.0",
          "state": {
            "_model_module": "@jupyter-widgets/base",
            "_model_module_version": "1.2.0",
            "_model_name": "LayoutModel",
            "_view_count": null,
            "_view_module": "@jupyter-widgets/base",
            "_view_module_version": "1.2.0",
            "_view_name": "LayoutView",
            "align_content": null,
            "align_items": null,
            "align_self": null,
            "border": null,
            "bottom": null,
            "display": null,
            "flex": null,
            "flex_flow": null,
            "grid_area": null,
            "grid_auto_columns": null,
            "grid_auto_flow": null,
            "grid_auto_rows": null,
            "grid_column": null,
            "grid_gap": null,
            "grid_row": null,
            "grid_template_areas": null,
            "grid_template_columns": null,
            "grid_template_rows": null,
            "height": null,
            "justify_content": null,
            "justify_items": null,
            "left": null,
            "margin": null,
            "max_height": null,
            "max_width": null,
            "min_height": null,
            "min_width": null,
            "object_fit": null,
            "object_position": null,
            "order": null,
            "overflow": null,
            "overflow_x": null,
            "overflow_y": null,
            "padding": null,
            "right": null,
            "top": null,
            "visibility": null,
            "width": null
          }
        },
        "e68a1ef6a5ef4db6ae53475568e5dfa8": {
          "model_module": "@jupyter-widgets/base",
          "model_name": "LayoutModel",
          "model_module_version": "1.2.0",
          "state": {
            "_model_module": "@jupyter-widgets/base",
            "_model_module_version": "1.2.0",
            "_model_name": "LayoutModel",
            "_view_count": null,
            "_view_module": "@jupyter-widgets/base",
            "_view_module_version": "1.2.0",
            "_view_name": "LayoutView",
            "align_content": null,
            "align_items": null,
            "align_self": null,
            "border": null,
            "bottom": null,
            "display": null,
            "flex": null,
            "flex_flow": null,
            "grid_area": null,
            "grid_auto_columns": null,
            "grid_auto_flow": null,
            "grid_auto_rows": null,
            "grid_column": null,
            "grid_gap": null,
            "grid_row": null,
            "grid_template_areas": null,
            "grid_template_columns": null,
            "grid_template_rows": null,
            "height": "28px",
            "justify_content": null,
            "justify_items": null,
            "left": null,
            "margin": null,
            "max_height": null,
            "max_width": null,
            "min_height": null,
            "min_width": null,
            "object_fit": null,
            "object_position": null,
            "order": null,
            "overflow": null,
            "overflow_x": null,
            "overflow_y": null,
            "padding": "0px 0px 0px 4px",
            "right": null,
            "top": null,
            "visibility": null,
            "width": "28px"
          }
        },
        "94d9a968858741ff96a82b495a609a09": {
          "model_module": "@jupyter-widgets/controls",
          "model_name": "DescriptionStyleModel",
          "model_module_version": "1.5.0",
          "state": {
            "_model_module": "@jupyter-widgets/controls",
            "_model_module_version": "1.5.0",
            "_model_name": "DescriptionStyleModel",
            "_view_count": null,
            "_view_module": "@jupyter-widgets/base",
            "_view_module_version": "1.2.0",
            "_view_name": "StyleView",
            "description_width": ""
          }
        },
        "cb914e037c84407fafc0eaccab187caf": {
          "model_module": "@jupyter-widgets/base",
          "model_name": "LayoutModel",
          "model_module_version": "1.2.0",
          "state": {
            "_model_module": "@jupyter-widgets/base",
            "_model_module_version": "1.2.0",
            "_model_name": "LayoutModel",
            "_view_count": null,
            "_view_module": "@jupyter-widgets/base",
            "_view_module_version": "1.2.0",
            "_view_name": "LayoutView",
            "align_content": null,
            "align_items": null,
            "align_self": null,
            "border": null,
            "bottom": null,
            "display": null,
            "flex": null,
            "flex_flow": null,
            "grid_area": null,
            "grid_auto_columns": null,
            "grid_auto_flow": null,
            "grid_auto_rows": null,
            "grid_column": null,
            "grid_gap": null,
            "grid_row": null,
            "grid_template_areas": null,
            "grid_template_columns": null,
            "grid_template_rows": null,
            "height": "28px",
            "justify_content": null,
            "justify_items": null,
            "left": null,
            "margin": null,
            "max_height": null,
            "max_width": null,
            "min_height": null,
            "min_width": null,
            "object_fit": null,
            "object_position": null,
            "order": null,
            "overflow": null,
            "overflow_x": null,
            "overflow_y": null,
            "padding": "0px 0px 0px 4px",
            "right": null,
            "top": null,
            "visibility": null,
            "width": "28px"
          }
        },
        "56f24c14cd6845dfbb422557a9f7df15": {
          "model_module": "@jupyter-widgets/controls",
          "model_name": "DescriptionStyleModel",
          "model_module_version": "1.5.0",
          "state": {
            "_model_module": "@jupyter-widgets/controls",
            "_model_module_version": "1.5.0",
            "_model_name": "DescriptionStyleModel",
            "_view_count": null,
            "_view_module": "@jupyter-widgets/base",
            "_view_module_version": "1.2.0",
            "_view_name": "StyleView",
            "description_width": ""
          }
        },
        "5dca74e531fc45ea95aedf49a26dc1a9": {
          "model_module": "jupyter-leaflet",
          "model_name": "LeafletTileLayerModel",
          "model_module_version": "^0.18",
          "state": {
            "_model_module": "jupyter-leaflet",
            "_model_module_version": "^0.18",
            "_model_name": "LeafletTileLayerModel",
            "_view_count": null,
            "_view_module": "jupyter-leaflet",
            "_view_module_version": "^0.18",
            "_view_name": "LeafletTileLayerView",
            "attribution": "Google Earth Engine",
            "base": false,
            "bottom": true,
            "bounds": null,
            "detect_retina": false,
            "loading": false,
            "max_native_zoom": null,
            "max_zoom": 24,
            "min_native_zoom": null,
            "min_zoom": 0,
            "name": "Population",
            "no_wrap": false,
            "opacity": 1,
            "options": [
              "attribution",
              "bounds",
              "detect_retina",
              "max_native_zoom",
              "max_zoom",
              "min_native_zoom",
              "min_zoom",
              "no_wrap",
              "tile_size",
              "tms",
              "zoom_offset"
            ],
            "pane": "",
            "popup": null,
            "popup_max_height": null,
            "popup_max_width": 300,
            "popup_min_width": 50,
            "show_loading": false,
            "subitems": [],
            "tile_size": 256,
            "tms": false,
            "url": "https://earthengine.googleapis.com/v1/projects/ee-jimmyandrianinar/maps/b77c4c737f2ad83836b94334bcd73cff-6249ab93386a938f0940fe5c4d57e244/tiles/{z}/{x}/{y}",
            "visible": true,
            "zoom_offset": 0
          }
        },
        "c62fbc088e7445fd9d632e805f76b190": {
          "model_module": "jupyter-leaflet",
          "model_name": "LeafletMapModel",
          "model_module_version": "^0.18",
          "state": {
            "_dom_classes": [],
            "_model_module": "jupyter-leaflet",
            "_model_module_version": "^0.18",
            "_model_name": "LeafletMapModel",
            "_view_count": null,
            "_view_module": "jupyter-leaflet",
            "_view_module_version": "^0.18",
            "_view_name": "LeafletMapView",
            "bottom": 2489,
            "bounce_at_zoom_limits": true,
            "box_zoom": true,
            "center": [
              -12.297068292853805,
              -49.834772059668396
            ],
            "close_popup_on_click": true,
            "controls": [
              "IPY_MODEL_661b4461503e4d1a80e8ad37c3a4a747",
              "IPY_MODEL_b2b7cc006b854a67b482fa512775b03b",
              "IPY_MODEL_1f26dff40005494ca7c92a893ac5afb2",
              "IPY_MODEL_fe9cd515b26241cab4c59687678b967a",
              "IPY_MODEL_e941dd595d4b467e983959ff7114c33f",
              "IPY_MODEL_41c6d1a91f5444fea8d348e7f7dbe9fd",
              "IPY_MODEL_9f4144b0be1c4f009833826a76e7fe2f",
              "IPY_MODEL_24be49ad40d74fb89de9d2c7432f5327",
              "IPY_MODEL_602d77707dfd434c93b6b79860e20ae2"
            ],
            "crs": {
              "name": "EPSG3857",
              "custom": false
            },
            "default_style": "IPY_MODEL_89e7bdbddb944afe9953b70a9ee7010c",
            "double_click_zoom": true,
            "dragging": true,
            "dragging_style": "IPY_MODEL_6c4947a69f944dc6960a84d25d736459",
            "east": -10.63555330966839,
            "fullscreen": false,
            "inertia": true,
            "inertia_deceleration": 3000,
            "inertia_max_speed": 1500,
            "interpolation": "bilinear",
            "keyboard": true,
            "keyboard_pan_offset": 80,
            "keyboard_zoom_offset": 1,
            "layers": [
              "IPY_MODEL_dcd35ec2b7eb4f649bd5f8c1ccfa3bef",
              "IPY_MODEL_6d9d1581e41a48adbf013659445c349d"
            ],
            "layout": "IPY_MODEL_acbda5493fd84c8d903a1a63152e64fc",
            "left": 1034.991037898884,
            "max_zoom": 24,
            "min_zoom": null,
            "modisdate": "2024-03-20",
            "north": 13.838079936422476,
            "options": [
              "bounce_at_zoom_limits",
              "box_zoom",
              "center",
              "close_popup_on_click",
              "double_click_zoom",
              "dragging",
              "fullscreen",
              "inertia",
              "inertia_deceleration",
              "inertia_max_speed",
              "interpolation",
              "keyboard",
              "keyboard_pan_offset",
              "keyboard_zoom_offset",
              "max_zoom",
              "min_zoom",
              "prefer_canvas",
              "scroll_wheel_zoom",
              "tap",
              "tap_tolerance",
              "touch_zoom",
              "world_copy_jump",
              "zoom",
              "zoom_animation_threshold",
              "zoom_delta",
              "zoom_snap"
            ],
            "panes": {},
            "prefer_canvas": false,
            "right": 1926.991037898884,
            "scroll_wheel_zoom": true,
            "south": -36.10237644873644,
            "style": "IPY_MODEL_89e7bdbddb944afe9953b70a9ee7010c",
            "tap": true,
            "tap_tolerance": 15,
            "top": 1889,
            "touch_zoom": true,
            "west": -89.0339908096684,
            "window_url": "https://d2il8ux2dee-496ff2e9c6d22116-0-colab.googleusercontent.com/outputframe.html?vrz=colab_20240320-060147_RC00_617469838",
            "world_copy_jump": false,
            "zoom": 4,
            "zoom_animation_threshold": 4,
            "zoom_delta": 1,
            "zoom_snap": 1
          }
        },
        "661b4461503e4d1a80e8ad37c3a4a747": {
          "model_module": "jupyter-leaflet",
          "model_name": "LeafletWidgetControlModel",
          "model_module_version": "^0.18",
          "state": {
            "_model_module": "jupyter-leaflet",
            "_model_module_version": "^0.18",
            "_model_name": "LeafletWidgetControlModel",
            "_view_count": null,
            "_view_module": "jupyter-leaflet",
            "_view_module_version": "^0.18",
            "_view_name": "LeafletWidgetControlView",
            "max_height": null,
            "max_width": null,
            "min_height": null,
            "min_width": null,
            "options": [
              "position",
              "transparent_bg"
            ],
            "position": "topleft",
            "transparent_bg": false,
            "widget": "IPY_MODEL_6c2b26aee4d740fc873706d77440791b"
          }
        },
        "b2b7cc006b854a67b482fa512775b03b": {
          "model_module": "jupyter-leaflet",
          "model_name": "LeafletZoomControlModel",
          "model_module_version": "^0.18",
          "state": {
            "_model_module": "jupyter-leaflet",
            "_model_module_version": "^0.18",
            "_model_name": "LeafletZoomControlModel",
            "_view_count": null,
            "_view_module": "jupyter-leaflet",
            "_view_module_version": "^0.18",
            "_view_name": "LeafletZoomControlView",
            "options": [
              "position",
              "zoom_in_text",
              "zoom_in_title",
              "zoom_out_text",
              "zoom_out_title"
            ],
            "position": "topleft",
            "zoom_in_text": "+",
            "zoom_in_title": "Zoom in",
            "zoom_out_text": "-",
            "zoom_out_title": "Zoom out"
          }
        },
        "1f26dff40005494ca7c92a893ac5afb2": {
          "model_module": "jupyter-leaflet",
          "model_name": "LeafletFullScreenControlModel",
          "model_module_version": "^0.18",
          "state": {
            "_model_module": "jupyter-leaflet",
            "_model_module_version": "^0.18",
            "_model_name": "LeafletFullScreenControlModel",
            "_view_count": null,
            "_view_module": "jupyter-leaflet",
            "_view_module_version": "^0.18",
            "_view_name": "LeafletFullScreenControlView",
            "options": [
              "position"
            ],
            "position": "topleft"
          }
        },
        "fe9cd515b26241cab4c59687678b967a": {
          "model_module": "jupyter-leaflet",
          "model_name": "LeafletDrawControlModel",
          "model_module_version": "^0.18",
          "state": {
            "_model_module": "jupyter-leaflet",
            "_model_module_version": "^0.18",
            "_model_name": "LeafletDrawControlModel",
            "_view_count": null,
            "_view_module": "jupyter-leaflet",
            "_view_module_version": "^0.18",
            "_view_name": "LeafletDrawControlView",
            "circle": {},
            "circlemarker": {},
            "data": [],
            "edit": true,
            "marker": {
              "shapeOptions": {
                "color": "#3388ff"
              }
            },
            "options": [
              "position"
            ],
            "polygon": {
              "shapeOptions": {}
            },
            "polyline": {
              "shapeOptions": {}
            },
            "position": "topleft",
            "rectangle": {
              "shapeOptions": {
                "color": "#3388ff"
              }
            },
            "remove": true
          }
        },
        "e941dd595d4b467e983959ff7114c33f": {
          "model_module": "jupyter-leaflet",
          "model_name": "LeafletScaleControlModel",
          "model_module_version": "^0.18",
          "state": {
            "_model_module": "jupyter-leaflet",
            "_model_module_version": "^0.18",
            "_model_name": "LeafletScaleControlModel",
            "_view_count": null,
            "_view_module": "jupyter-leaflet",
            "_view_module_version": "^0.18",
            "_view_name": "LeafletScaleControlView",
            "imperial": true,
            "max_width": 100,
            "metric": true,
            "options": [
              "imperial",
              "max_width",
              "metric",
              "position",
              "update_when_idle"
            ],
            "position": "bottomleft",
            "update_when_idle": false
          }
        },
        "41c6d1a91f5444fea8d348e7f7dbe9fd": {
          "model_module": "jupyter-leaflet",
          "model_name": "LeafletMeasureControlModel",
          "model_module_version": "^0.18",
          "state": {
            "_custom_units": {},
            "_model_module": "jupyter-leaflet",
            "_model_module_version": "^0.18",
            "_model_name": "LeafletMeasureControlModel",
            "_view_count": null,
            "_view_module": "jupyter-leaflet",
            "_view_module_version": "^0.18",
            "_view_name": "LeafletMeasureControlView",
            "active_color": "orange",
            "capture_z_index": 10000,
            "completed_color": "#C8F2BE",
            "options": [
              "active_color",
              "capture_z_index",
              "completed_color",
              "popup_options",
              "position",
              "primary_area_unit",
              "primary_length_unit",
              "secondary_area_unit",
              "secondary_length_unit"
            ],
            "popup_options": {
              "className": "leaflet-measure-resultpopup",
              "autoPanPadding": [
                10,
                10
              ]
            },
            "position": "bottomleft",
            "primary_area_unit": "acres",
            "primary_length_unit": "kilometers",
            "secondary_area_unit": null,
            "secondary_length_unit": null
          }
        },
        "9f4144b0be1c4f009833826a76e7fe2f": {
          "model_module": "jupyter-leaflet",
          "model_name": "LeafletWidgetControlModel",
          "model_module_version": "^0.18",
          "state": {
            "_model_module": "jupyter-leaflet",
            "_model_module_version": "^0.18",
            "_model_name": "LeafletWidgetControlModel",
            "_view_count": null,
            "_view_module": "jupyter-leaflet",
            "_view_module_version": "^0.18",
            "_view_name": "LeafletWidgetControlView",
            "max_height": null,
            "max_width": null,
            "min_height": null,
            "min_width": null,
            "options": [
              "position",
              "transparent_bg"
            ],
            "position": "topright",
            "transparent_bg": false,
            "widget": "IPY_MODEL_5135b9181bf941fbad72b7fb75ec7bc2"
          }
        },
        "24be49ad40d74fb89de9d2c7432f5327": {
          "model_module": "jupyter-leaflet",
          "model_name": "LeafletAttributionControlModel",
          "model_module_version": "^0.18",
          "state": {
            "_model_module": "jupyter-leaflet",
            "_model_module_version": "^0.18",
            "_model_name": "LeafletAttributionControlModel",
            "_view_count": null,
            "_view_module": "jupyter-leaflet",
            "_view_module_version": "^0.18",
            "_view_name": "LeafletAttributionControlView",
            "options": [
              "position",
              "prefix"
            ],
            "position": "bottomright",
            "prefix": "ipyleaflet"
          }
        },
        "89e7bdbddb944afe9953b70a9ee7010c": {
          "model_module": "jupyter-leaflet",
          "model_name": "LeafletMapStyleModel",
          "model_module_version": "^0.18",
          "state": {
            "_model_module": "jupyter-leaflet",
            "_model_module_version": "^0.18",
            "_model_name": "LeafletMapStyleModel",
            "_view_count": null,
            "_view_module": "@jupyter-widgets/base",
            "_view_module_version": "1.2.0",
            "_view_name": "StyleView",
            "cursor": "grab"
          }
        },
        "6c4947a69f944dc6960a84d25d736459": {
          "model_module": "jupyter-leaflet",
          "model_name": "LeafletMapStyleModel",
          "model_module_version": "^0.18",
          "state": {
            "_model_module": "jupyter-leaflet",
            "_model_module_version": "^0.18",
            "_model_name": "LeafletMapStyleModel",
            "_view_count": null,
            "_view_module": "@jupyter-widgets/base",
            "_view_module_version": "1.2.0",
            "_view_name": "StyleView",
            "cursor": "move"
          }
        },
        "dcd35ec2b7eb4f649bd5f8c1ccfa3bef": {
          "model_module": "jupyter-leaflet",
          "model_name": "LeafletTileLayerModel",
          "model_module_version": "^0.18",
          "state": {
            "_model_module": "jupyter-leaflet",
            "_model_module_version": "^0.18",
            "_model_name": "LeafletTileLayerModel",
            "_view_count": null,
            "_view_module": "jupyter-leaflet",
            "_view_module_version": "^0.18",
            "_view_name": "LeafletTileLayerView",
            "attribution": "&copy; <a href=\"https://www.openstreetmap.org/copyright\">OpenStreetMap</a> contributors",
            "base": true,
            "bottom": true,
            "bounds": null,
            "detect_retina": false,
            "loading": false,
            "max_native_zoom": null,
            "max_zoom": 19,
            "min_native_zoom": null,
            "min_zoom": 1,
            "name": "OpenStreetMap.Mapnik",
            "no_wrap": false,
            "opacity": 1,
            "options": [
              "attribution",
              "bounds",
              "detect_retina",
              "max_native_zoom",
              "max_zoom",
              "min_native_zoom",
              "min_zoom",
              "no_wrap",
              "tile_size",
              "tms",
              "zoom_offset"
            ],
            "pane": "",
            "popup": null,
            "popup_max_height": null,
            "popup_max_width": 300,
            "popup_min_width": 50,
            "show_loading": false,
            "subitems": [],
            "tile_size": 256,
            "tms": false,
            "url": "https://tile.openstreetmap.org/{z}/{x}/{y}.png",
            "visible": true,
            "zoom_offset": 0
          }
        },
        "6d9d1581e41a48adbf013659445c349d": {
          "model_module": "jupyter-leaflet",
          "model_name": "LeafletTileLayerModel",
          "model_module_version": "^0.18",
          "state": {
            "_model_module": "jupyter-leaflet",
            "_model_module_version": "^0.18",
            "_model_name": "LeafletTileLayerModel",
            "_view_count": null,
            "_view_module": "jupyter-leaflet",
            "_view_module_version": "^0.18",
            "_view_name": "LeafletTileLayerView",
            "attribution": "Google Earth Engine",
            "base": false,
            "bottom": true,
            "bounds": null,
            "detect_retina": false,
            "loading": false,
            "max_native_zoom": null,
            "max_zoom": 24,
            "min_native_zoom": null,
            "min_zoom": 0,
            "name": "MODIS Land Cover",
            "no_wrap": false,
            "opacity": 1,
            "options": [
              "attribution",
              "bounds",
              "detect_retina",
              "max_native_zoom",
              "max_zoom",
              "min_native_zoom",
              "min_zoom",
              "no_wrap",
              "tile_size",
              "tms",
              "zoom_offset"
            ],
            "pane": "",
            "popup": null,
            "popup_max_height": null,
            "popup_max_width": 300,
            "popup_min_width": 50,
            "show_loading": false,
            "subitems": [],
            "tile_size": 256,
            "tms": false,
            "url": "https://earthengine.googleapis.com/v1/projects/g20-brazil/maps/f6383fe5dc071b0463d29c5ebe7f3a29-03342cc6eb27993b7fa43ec1b79b9647/tiles/{z}/{x}/{y}",
            "visible": true,
            "zoom_offset": 0
          }
        },
        "acbda5493fd84c8d903a1a63152e64fc": {
          "model_module": "@jupyter-widgets/base",
          "model_name": "LayoutModel",
          "model_module_version": "1.2.0",
          "state": {
            "_model_module": "@jupyter-widgets/base",
            "_model_module_version": "1.2.0",
            "_model_name": "LayoutModel",
            "_view_count": null,
            "_view_module": "@jupyter-widgets/base",
            "_view_module_version": "1.2.0",
            "_view_name": "LayoutView",
            "align_content": null,
            "align_items": null,
            "align_self": null,
            "border": null,
            "bottom": null,
            "display": null,
            "flex": null,
            "flex_flow": null,
            "grid_area": null,
            "grid_auto_columns": null,
            "grid_auto_flow": null,
            "grid_auto_rows": null,
            "grid_column": null,
            "grid_gap": null,
            "grid_row": null,
            "grid_template_areas": null,
            "grid_template_columns": null,
            "grid_template_rows": null,
            "height": "600px",
            "justify_content": null,
            "justify_items": null,
            "left": null,
            "margin": null,
            "max_height": null,
            "max_width": null,
            "min_height": null,
            "min_width": null,
            "object_fit": null,
            "object_position": null,
            "order": null,
            "overflow": null,
            "overflow_x": null,
            "overflow_y": null,
            "padding": null,
            "right": null,
            "top": null,
            "visibility": null,
            "width": null
          }
        },
        "c7aabecb1de0458fbdbe8896879c668e": {
          "model_module": "jupyter-leaflet",
          "model_name": "LeafletMapStyleModel",
          "model_module_version": "^0.18",
          "state": {
            "_model_module": "jupyter-leaflet",
            "_model_module_version": "^0.18",
            "_model_name": "LeafletMapStyleModel",
            "_view_count": null,
            "_view_module": "@jupyter-widgets/base",
            "_view_module_version": "1.2.0",
            "_view_name": "StyleView",
            "cursor": "grab"
          }
        },
        "6c2b26aee4d740fc873706d77440791b": {
          "model_module": "@jupyter-widgets/controls",
          "model_name": "HBoxModel",
          "model_module_version": "1.5.0",
          "state": {
            "_dom_classes": [
              "geemap-colab"
            ],
            "_model_module": "@jupyter-widgets/controls",
            "_model_module_version": "1.5.0",
            "_model_name": "HBoxModel",
            "_view_count": null,
            "_view_module": "@jupyter-widgets/controls",
            "_view_module_version": "1.5.0",
            "_view_name": "HBoxView",
            "box_style": "",
            "children": [
              "IPY_MODEL_77cb751c875042eabb07e3d83f174c66"
            ],
            "layout": "IPY_MODEL_a1262f78ec16410485f2c0475f597e95"
          }
        },
        "5135b9181bf941fbad72b7fb75ec7bc2": {
          "model_module": "@jupyter-widgets/controls",
          "model_name": "VBoxModel",
          "model_module_version": "1.5.0",
          "state": {
            "_dom_classes": [
              "geemap-colab"
            ],
            "_model_module": "@jupyter-widgets/controls",
            "_model_module_version": "1.5.0",
            "_model_name": "VBoxModel",
            "_view_count": null,
            "_view_module": "@jupyter-widgets/controls",
            "_view_module_version": "1.5.0",
            "_view_name": "VBoxView",
            "box_style": "",
            "children": [
              "IPY_MODEL_2dc798ce717845138001a32f0314ddb2"
            ],
            "layout": "IPY_MODEL_5650439055f54d8d83cfecd236fbb7ae"
          }
        },
        "77cb751c875042eabb07e3d83f174c66": {
          "model_module": "@jupyter-widgets/controls",
          "model_name": "ToggleButtonModel",
          "model_module_version": "1.5.0",
          "state": {
            "_dom_classes": [],
            "_model_module": "@jupyter-widgets/controls",
            "_model_module_version": "1.5.0",
            "_model_name": "ToggleButtonModel",
            "_view_count": null,
            "_view_module": "@jupyter-widgets/controls",
            "_view_module_version": "1.5.0",
            "_view_name": "ToggleButtonView",
            "button_style": "",
            "description": "",
            "description_tooltip": null,
            "disabled": false,
            "icon": "globe",
            "layout": "IPY_MODEL_d795ea87c31b498e821368a2b328bce6",
            "style": "IPY_MODEL_d060036c67c04c648698374e400938dd",
            "tooltip": "Search location/data",
            "value": false
          }
        },
        "a1262f78ec16410485f2c0475f597e95": {
          "model_module": "@jupyter-widgets/base",
          "model_name": "LayoutModel",
          "model_module_version": "1.2.0",
          "state": {
            "_model_module": "@jupyter-widgets/base",
            "_model_module_version": "1.2.0",
            "_model_name": "LayoutModel",
            "_view_count": null,
            "_view_module": "@jupyter-widgets/base",
            "_view_module_version": "1.2.0",
            "_view_name": "LayoutView",
            "align_content": null,
            "align_items": null,
            "align_self": null,
            "border": null,
            "bottom": null,
            "display": null,
            "flex": null,
            "flex_flow": null,
            "grid_area": null,
            "grid_auto_columns": null,
            "grid_auto_flow": null,
            "grid_auto_rows": null,
            "grid_column": null,
            "grid_gap": null,
            "grid_row": null,
            "grid_template_areas": null,
            "grid_template_columns": null,
            "grid_template_rows": null,
            "height": null,
            "justify_content": null,
            "justify_items": null,
            "left": null,
            "margin": null,
            "max_height": null,
            "max_width": null,
            "min_height": null,
            "min_width": null,
            "object_fit": null,
            "object_position": null,
            "order": null,
            "overflow": null,
            "overflow_x": null,
            "overflow_y": null,
            "padding": null,
            "right": null,
            "top": null,
            "visibility": null,
            "width": null
          }
        },
        "2dc798ce717845138001a32f0314ddb2": {
          "model_module": "@jupyter-widgets/controls",
          "model_name": "ToggleButtonModel",
          "model_module_version": "1.5.0",
          "state": {
            "_dom_classes": [],
            "_model_module": "@jupyter-widgets/controls",
            "_model_module_version": "1.5.0",
            "_model_name": "ToggleButtonModel",
            "_view_count": null,
            "_view_module": "@jupyter-widgets/controls",
            "_view_module_version": "1.5.0",
            "_view_name": "ToggleButtonView",
            "button_style": "",
            "description": "",
            "description_tooltip": null,
            "disabled": false,
            "icon": "wrench",
            "layout": "IPY_MODEL_2c18a79577724b2bb2159e3e8b504265",
            "style": "IPY_MODEL_4a5606010e8c4a1f8290a59785123192",
            "tooltip": "Toolbar",
            "value": false
          }
        },
        "5650439055f54d8d83cfecd236fbb7ae": {
          "model_module": "@jupyter-widgets/base",
          "model_name": "LayoutModel",
          "model_module_version": "1.2.0",
          "state": {
            "_model_module": "@jupyter-widgets/base",
            "_model_module_version": "1.2.0",
            "_model_name": "LayoutModel",
            "_view_count": null,
            "_view_module": "@jupyter-widgets/base",
            "_view_module_version": "1.2.0",
            "_view_name": "LayoutView",
            "align_content": null,
            "align_items": null,
            "align_self": null,
            "border": null,
            "bottom": null,
            "display": null,
            "flex": null,
            "flex_flow": null,
            "grid_area": null,
            "grid_auto_columns": null,
            "grid_auto_flow": null,
            "grid_auto_rows": null,
            "grid_column": null,
            "grid_gap": null,
            "grid_row": null,
            "grid_template_areas": null,
            "grid_template_columns": null,
            "grid_template_rows": null,
            "height": null,
            "justify_content": null,
            "justify_items": null,
            "left": null,
            "margin": null,
            "max_height": null,
            "max_width": null,
            "min_height": null,
            "min_width": null,
            "object_fit": null,
            "object_position": null,
            "order": null,
            "overflow": null,
            "overflow_x": null,
            "overflow_y": null,
            "padding": null,
            "right": null,
            "top": null,
            "visibility": null,
            "width": null
          }
        },
        "d795ea87c31b498e821368a2b328bce6": {
          "model_module": "@jupyter-widgets/base",
          "model_name": "LayoutModel",
          "model_module_version": "1.2.0",
          "state": {
            "_model_module": "@jupyter-widgets/base",
            "_model_module_version": "1.2.0",
            "_model_name": "LayoutModel",
            "_view_count": null,
            "_view_module": "@jupyter-widgets/base",
            "_view_module_version": "1.2.0",
            "_view_name": "LayoutView",
            "align_content": null,
            "align_items": null,
            "align_self": null,
            "border": null,
            "bottom": null,
            "display": null,
            "flex": null,
            "flex_flow": null,
            "grid_area": null,
            "grid_auto_columns": null,
            "grid_auto_flow": null,
            "grid_auto_rows": null,
            "grid_column": null,
            "grid_gap": null,
            "grid_row": null,
            "grid_template_areas": null,
            "grid_template_columns": null,
            "grid_template_rows": null,
            "height": "28px",
            "justify_content": null,
            "justify_items": null,
            "left": null,
            "margin": null,
            "max_height": null,
            "max_width": null,
            "min_height": null,
            "min_width": null,
            "object_fit": null,
            "object_position": null,
            "order": null,
            "overflow": null,
            "overflow_x": null,
            "overflow_y": null,
            "padding": "0px 0px 0px 4px",
            "right": null,
            "top": null,
            "visibility": null,
            "width": "28px"
          }
        },
        "d060036c67c04c648698374e400938dd": {
          "model_module": "@jupyter-widgets/controls",
          "model_name": "DescriptionStyleModel",
          "model_module_version": "1.5.0",
          "state": {
            "_model_module": "@jupyter-widgets/controls",
            "_model_module_version": "1.5.0",
            "_model_name": "DescriptionStyleModel",
            "_view_count": null,
            "_view_module": "@jupyter-widgets/base",
            "_view_module_version": "1.2.0",
            "_view_name": "StyleView",
            "description_width": ""
          }
        },
        "2c18a79577724b2bb2159e3e8b504265": {
          "model_module": "@jupyter-widgets/base",
          "model_name": "LayoutModel",
          "model_module_version": "1.2.0",
          "state": {
            "_model_module": "@jupyter-widgets/base",
            "_model_module_version": "1.2.0",
            "_model_name": "LayoutModel",
            "_view_count": null,
            "_view_module": "@jupyter-widgets/base",
            "_view_module_version": "1.2.0",
            "_view_name": "LayoutView",
            "align_content": null,
            "align_items": null,
            "align_self": null,
            "border": null,
            "bottom": null,
            "display": null,
            "flex": null,
            "flex_flow": null,
            "grid_area": null,
            "grid_auto_columns": null,
            "grid_auto_flow": null,
            "grid_auto_rows": null,
            "grid_column": null,
            "grid_gap": null,
            "grid_row": null,
            "grid_template_areas": null,
            "grid_template_columns": null,
            "grid_template_rows": null,
            "height": "28px",
            "justify_content": null,
            "justify_items": null,
            "left": null,
            "margin": null,
            "max_height": null,
            "max_width": null,
            "min_height": null,
            "min_width": null,
            "object_fit": null,
            "object_position": null,
            "order": null,
            "overflow": null,
            "overflow_x": null,
            "overflow_y": null,
            "padding": "0px 0px 0px 4px",
            "right": null,
            "top": null,
            "visibility": null,
            "width": "28px"
          }
        },
        "4a5606010e8c4a1f8290a59785123192": {
          "model_module": "@jupyter-widgets/controls",
          "model_name": "DescriptionStyleModel",
          "model_module_version": "1.5.0",
          "state": {
            "_model_module": "@jupyter-widgets/controls",
            "_model_module_version": "1.5.0",
            "_model_name": "DescriptionStyleModel",
            "_view_count": null,
            "_view_module": "@jupyter-widgets/base",
            "_view_module_version": "1.2.0",
            "_view_name": "StyleView",
            "description_width": ""
          }
        },
        "602d77707dfd434c93b6b79860e20ae2": {
          "model_module": "jupyter-leaflet",
          "model_name": "LeafletWidgetControlModel",
          "model_module_version": "^0.18",
          "state": {
            "_model_module": "jupyter-leaflet",
            "_model_module_version": "^0.18",
            "_model_name": "LeafletWidgetControlModel",
            "_view_count": null,
            "_view_module": "jupyter-leaflet",
            "_view_module_version": "^0.18",
            "_view_name": "LeafletWidgetControlView",
            "max_height": null,
            "max_width": null,
            "min_height": null,
            "min_width": null,
            "options": [
              "position",
              "transparent_bg"
            ],
            "position": "bottomright",
            "transparent_bg": false,
            "widget": "IPY_MODEL_18b5fbf56d9f4d5896bf1a342c6cb975"
          }
        },
        "18b5fbf56d9f4d5896bf1a342c6cb975": {
          "model_module": "@jupyter-widgets/controls",
          "model_name": "VBoxModel",
          "model_module_version": "1.5.0",
          "state": {
            "_dom_classes": [
              "geemap-colab"
            ],
            "_model_module": "@jupyter-widgets/controls",
            "_model_module_version": "1.5.0",
            "_model_name": "VBoxModel",
            "_view_count": null,
            "_view_module": "@jupyter-widgets/controls",
            "_view_module_version": "1.5.0",
            "_view_name": "VBoxView",
            "box_style": "",
            "children": [
              "IPY_MODEL_1d9a4ce271cf4ba993879f2a7ce9bdd4"
            ],
            "layout": "IPY_MODEL_38fe3a4e258b4b47a149af0bb52a8157"
          }
        },
        "1d9a4ce271cf4ba993879f2a7ce9bdd4": {
          "model_module": "@jupyter-widgets/controls",
          "model_name": "VBoxModel",
          "model_module_version": "1.5.0",
          "state": {
            "_dom_classes": [],
            "_model_module": "@jupyter-widgets/controls",
            "_model_module_version": "1.5.0",
            "_model_name": "VBoxModel",
            "_view_count": null,
            "_view_module": "@jupyter-widgets/controls",
            "_view_module_version": "1.5.0",
            "_view_name": "VBoxView",
            "box_style": "",
            "children": [
              "IPY_MODEL_01bd904695cb4b88baaf319cbeefa089",
              "IPY_MODEL_c15ee113f1ab4fe6b28769149a396dcb"
            ],
            "layout": "IPY_MODEL_b86dc540ee6740268c95324e66302439"
          }
        },
        "38fe3a4e258b4b47a149af0bb52a8157": {
          "model_module": "@jupyter-widgets/base",
          "model_name": "LayoutModel",
          "model_module_version": "1.2.0",
          "state": {
            "_model_module": "@jupyter-widgets/base",
            "_model_module_version": "1.2.0",
            "_model_name": "LayoutModel",
            "_view_count": null,
            "_view_module": "@jupyter-widgets/base",
            "_view_module_version": "1.2.0",
            "_view_name": "LayoutView",
            "align_content": null,
            "align_items": null,
            "align_self": null,
            "border": null,
            "bottom": null,
            "display": null,
            "flex": null,
            "flex_flow": null,
            "grid_area": null,
            "grid_auto_columns": null,
            "grid_auto_flow": null,
            "grid_auto_rows": null,
            "grid_column": null,
            "grid_gap": null,
            "grid_row": null,
            "grid_template_areas": null,
            "grid_template_columns": null,
            "grid_template_rows": null,
            "height": null,
            "justify_content": null,
            "justify_items": null,
            "left": null,
            "margin": null,
            "max_height": null,
            "max_width": null,
            "min_height": null,
            "min_width": null,
            "object_fit": null,
            "object_position": null,
            "order": null,
            "overflow": null,
            "overflow_x": null,
            "overflow_y": null,
            "padding": null,
            "right": null,
            "top": null,
            "visibility": null,
            "width": null
          }
        },
        "01bd904695cb4b88baaf319cbeefa089": {
          "model_module": "@jupyter-widgets/controls",
          "model_name": "HBoxModel",
          "model_module_version": "1.5.0",
          "state": {
            "_dom_classes": [],
            "_model_module": "@jupyter-widgets/controls",
            "_model_module_version": "1.5.0",
            "_model_name": "HBoxModel",
            "_view_count": null,
            "_view_module": "@jupyter-widgets/controls",
            "_view_module_version": "1.5.0",
            "_view_name": "HBoxView",
            "box_style": "",
            "children": [
              "IPY_MODEL_da9178ee41bf472bb43a83badea283bc"
            ],
            "layout": "IPY_MODEL_9da015df12524b4aba3f279189a87fd9"
          }
        },
        "c15ee113f1ab4fe6b28769149a396dcb": {
          "model_module": "@jupyter-widgets/controls",
          "model_name": "VBoxModel",
          "model_module_version": "1.5.0",
          "state": {
            "_dom_classes": [],
            "_model_module": "@jupyter-widgets/controls",
            "_model_module_version": "1.5.0",
            "_model_name": "VBoxModel",
            "_view_count": null,
            "_view_module": "@jupyter-widgets/controls",
            "_view_module_version": "1.5.0",
            "_view_name": "VBoxView",
            "box_style": "",
            "children": [
              "IPY_MODEL_088504a5e9ea493ca44fd8e85274db4d"
            ],
            "layout": "IPY_MODEL_2b7c70ac5f764c1ebe26016d23ff7414"
          }
        },
        "b86dc540ee6740268c95324e66302439": {
          "model_module": "@jupyter-widgets/base",
          "model_name": "LayoutModel",
          "model_module_version": "1.2.0",
          "state": {
            "_model_module": "@jupyter-widgets/base",
            "_model_module_version": "1.2.0",
            "_model_name": "LayoutModel",
            "_view_count": null,
            "_view_module": "@jupyter-widgets/base",
            "_view_module_version": "1.2.0",
            "_view_name": "LayoutView",
            "align_content": null,
            "align_items": null,
            "align_self": null,
            "border": null,
            "bottom": null,
            "display": null,
            "flex": null,
            "flex_flow": null,
            "grid_area": null,
            "grid_auto_columns": null,
            "grid_auto_flow": null,
            "grid_auto_rows": null,
            "grid_column": null,
            "grid_gap": null,
            "grid_row": null,
            "grid_template_areas": null,
            "grid_template_columns": null,
            "grid_template_rows": null,
            "height": null,
            "justify_content": null,
            "justify_items": null,
            "left": null,
            "margin": null,
            "max_height": null,
            "max_width": null,
            "min_height": null,
            "min_width": null,
            "object_fit": null,
            "object_position": null,
            "order": null,
            "overflow": null,
            "overflow_x": null,
            "overflow_y": null,
            "padding": null,
            "right": null,
            "top": null,
            "visibility": null,
            "width": null
          }
        },
        "da9178ee41bf472bb43a83badea283bc": {
          "model_module": "@jupyter-widgets/controls",
          "model_name": "ToggleButtonModel",
          "model_module_version": "1.5.0",
          "state": {
            "_dom_classes": [],
            "_model_module": "@jupyter-widgets/controls",
            "_model_module_version": "1.5.0",
            "_model_name": "ToggleButtonModel",
            "_view_count": null,
            "_view_module": "@jupyter-widgets/controls",
            "_view_module_version": "1.5.0",
            "_view_name": "ToggleButtonView",
            "button_style": "",
            "description": "",
            "description_tooltip": null,
            "disabled": false,
            "icon": "bars",
            "layout": "IPY_MODEL_33a87b850dc74acdb22c08c67bd5fd38",
            "style": "IPY_MODEL_e0e1c3b28bbe48ffbb53a8f5b945d5fd",
            "tooltip": "Toolbar",
            "value": true
          }
        },
        "9da015df12524b4aba3f279189a87fd9": {
          "model_module": "@jupyter-widgets/base",
          "model_name": "LayoutModel",
          "model_module_version": "1.2.0",
          "state": {
            "_model_module": "@jupyter-widgets/base",
            "_model_module_version": "1.2.0",
            "_model_name": "LayoutModel",
            "_view_count": null,
            "_view_module": "@jupyter-widgets/base",
            "_view_module_version": "1.2.0",
            "_view_name": "LayoutView",
            "align_content": null,
            "align_items": null,
            "align_self": null,
            "border": null,
            "bottom": null,
            "display": null,
            "flex": null,
            "flex_flow": null,
            "grid_area": null,
            "grid_auto_columns": null,
            "grid_auto_flow": null,
            "grid_auto_rows": null,
            "grid_column": null,
            "grid_gap": null,
            "grid_row": null,
            "grid_template_areas": null,
            "grid_template_columns": null,
            "grid_template_rows": null,
            "height": null,
            "justify_content": null,
            "justify_items": null,
            "left": null,
            "margin": null,
            "max_height": null,
            "max_width": null,
            "min_height": null,
            "min_width": null,
            "object_fit": null,
            "object_position": null,
            "order": null,
            "overflow": null,
            "overflow_x": null,
            "overflow_y": null,
            "padding": null,
            "right": null,
            "top": null,
            "visibility": null,
            "width": null
          }
        },
        "088504a5e9ea493ca44fd8e85274db4d": {
          "model_module": "@jupyter-widgets/output",
          "model_name": "OutputModel",
          "model_module_version": "1.0.0",
          "state": {
            "_dom_classes": [],
            "_model_module": "@jupyter-widgets/output",
            "_model_module_version": "1.0.0",
            "_model_name": "OutputModel",
            "_view_count": null,
            "_view_module": "@jupyter-widgets/output",
            "_view_module_version": "1.0.0",
            "_view_name": "OutputView",
            "layout": "IPY_MODEL_a376b05e90df4a41a982b9bd0c517a7d",
            "msg_id": "",
            "outputs": [
              {
                "output_type": "display_data",
                "data": {
                  "text/plain": "HTML(value=\"<html>\\n<body>\\n  <div class='my-legend'>\\n  <div class='legend-title'>Legend</div>\\n  <div class=…",
                  "application/vnd.jupyter.widget-view+json": {
                    "version_major": 2,
                    "version_minor": 0,
                    "model_id": "55462a3d620f49dd8c49f79de88b15ed"
                  }
                },
                "metadata": {
                  "application/vnd.jupyter.widget-view+json": {
                    "colab": {
                      "custom_widget_manager": {
                        "url": "https://ssl.gstatic.com/colaboratory-static/widgets/colab-cdn-widget-manager/2b70e893a8ba7c0f/manager.min.js"
                      }
                    }
                  }
                }
              }
            ]
          }
        },
        "2b7c70ac5f764c1ebe26016d23ff7414": {
          "model_module": "@jupyter-widgets/base",
          "model_name": "LayoutModel",
          "model_module_version": "1.2.0",
          "state": {
            "_model_module": "@jupyter-widgets/base",
            "_model_module_version": "1.2.0",
            "_model_name": "LayoutModel",
            "_view_count": null,
            "_view_module": "@jupyter-widgets/base",
            "_view_module_version": "1.2.0",
            "_view_name": "LayoutView",
            "align_content": null,
            "align_items": null,
            "align_self": null,
            "border": null,
            "bottom": null,
            "display": null,
            "flex": null,
            "flex_flow": null,
            "grid_area": null,
            "grid_auto_columns": null,
            "grid_auto_flow": null,
            "grid_auto_rows": null,
            "grid_column": null,
            "grid_gap": null,
            "grid_row": null,
            "grid_template_areas": null,
            "grid_template_columns": null,
            "grid_template_rows": null,
            "height": null,
            "justify_content": null,
            "justify_items": null,
            "left": null,
            "margin": null,
            "max_height": null,
            "max_width": null,
            "min_height": null,
            "min_width": null,
            "object_fit": null,
            "object_position": null,
            "order": null,
            "overflow": null,
            "overflow_x": null,
            "overflow_y": null,
            "padding": null,
            "right": null,
            "top": null,
            "visibility": null,
            "width": null
          }
        },
        "33a87b850dc74acdb22c08c67bd5fd38": {
          "model_module": "@jupyter-widgets/base",
          "model_name": "LayoutModel",
          "model_module_version": "1.2.0",
          "state": {
            "_model_module": "@jupyter-widgets/base",
            "_model_module_version": "1.2.0",
            "_model_name": "LayoutModel",
            "_view_count": null,
            "_view_module": "@jupyter-widgets/base",
            "_view_module_version": "1.2.0",
            "_view_name": "LayoutView",
            "align_content": null,
            "align_items": null,
            "align_self": null,
            "border": null,
            "bottom": null,
            "display": null,
            "flex": null,
            "flex_flow": null,
            "grid_area": null,
            "grid_auto_columns": null,
            "grid_auto_flow": null,
            "grid_auto_rows": null,
            "grid_column": null,
            "grid_gap": null,
            "grid_row": null,
            "grid_template_areas": null,
            "grid_template_columns": null,
            "grid_template_rows": null,
            "height": "28px",
            "justify_content": null,
            "justify_items": null,
            "left": null,
            "margin": null,
            "max_height": null,
            "max_width": null,
            "min_height": null,
            "min_width": null,
            "object_fit": null,
            "object_position": null,
            "order": null,
            "overflow": null,
            "overflow_x": null,
            "overflow_y": null,
            "padding": "0px 0px 0px 4px",
            "right": null,
            "top": null,
            "visibility": null,
            "width": "28px"
          }
        },
        "e0e1c3b28bbe48ffbb53a8f5b945d5fd": {
          "model_module": "@jupyter-widgets/controls",
          "model_name": "DescriptionStyleModel",
          "model_module_version": "1.5.0",
          "state": {
            "_model_module": "@jupyter-widgets/controls",
            "_model_module_version": "1.5.0",
            "_model_name": "DescriptionStyleModel",
            "_view_count": null,
            "_view_module": "@jupyter-widgets/base",
            "_view_module_version": "1.2.0",
            "_view_name": "StyleView",
            "description_width": ""
          }
        },
        "a376b05e90df4a41a982b9bd0c517a7d": {
          "model_module": "@jupyter-widgets/base",
          "model_name": "LayoutModel",
          "model_module_version": "1.2.0",
          "state": {
            "_model_module": "@jupyter-widgets/base",
            "_model_module_version": "1.2.0",
            "_model_name": "LayoutModel",
            "_view_count": null,
            "_view_module": "@jupyter-widgets/base",
            "_view_module_version": "1.2.0",
            "_view_name": "LayoutView",
            "align_content": null,
            "align_items": null,
            "align_self": null,
            "border": null,
            "bottom": null,
            "display": null,
            "flex": null,
            "flex_flow": null,
            "grid_area": null,
            "grid_auto_columns": null,
            "grid_auto_flow": null,
            "grid_auto_rows": null,
            "grid_column": null,
            "grid_gap": null,
            "grid_row": null,
            "grid_template_areas": null,
            "grid_template_columns": null,
            "grid_template_rows": null,
            "height": null,
            "justify_content": null,
            "justify_items": null,
            "left": null,
            "margin": null,
            "max_height": "400px",
            "max_width": "300px",
            "min_height": null,
            "min_width": null,
            "object_fit": null,
            "object_position": null,
            "order": null,
            "overflow": "scroll",
            "overflow_x": null,
            "overflow_y": null,
            "padding": null,
            "right": null,
            "top": null,
            "visibility": null,
            "width": null
          }
        },
        "55462a3d620f49dd8c49f79de88b15ed": {
          "model_module": "@jupyter-widgets/controls",
          "model_name": "HTMLModel",
          "model_module_version": "1.5.0",
          "state": {
            "_dom_classes": [],
            "_model_module": "@jupyter-widgets/controls",
            "_model_module_version": "1.5.0",
            "_model_name": "HTMLModel",
            "_view_count": null,
            "_view_module": "@jupyter-widgets/controls",
            "_view_module_version": "1.5.0",
            "_view_name": "HTMLView",
            "description": "",
            "description_tooltip": null,
            "layout": "IPY_MODEL_042ca1ec4b0a45e580683a10137a9b72",
            "placeholder": "​",
            "style": "IPY_MODEL_1e90baccff53479b984f003a89515dec",
            "value": "<html>\n<body>\n  <div class='my-legend'>\n  <div class='legend-title'>Legend</div>\n  <div class='legend-scale'>\n    <ul class='legend-labels'>\n<li><span style='background:#1c0dff;'></span>0 Water</li>\n<li><span style='background:#05450a;'></span>1 Evergreen needleleaf forest</li>\n<li><span style='background:#086a10;'></span>2 Evergreen broadleaf forest</li>\n<li><span style='background:#54a708;'></span>3 Deciduous needleleaf forest</li>\n<li><span style='background:#78d203;'></span>4 Deciduous broadleaf forest</li>\n<li><span style='background:#009900;'></span>5 Mixed forest</li>\n<li><span style='background:#c6b044;'></span>6 Closed shrublands</li>\n<li><span style='background:#dcd159;'></span>7 Open shrublands</li>\n<li><span style='background:#dade48;'></span>8 Woody savannas</li>\n<li><span style='background:#fbff13;'></span>9 Savannas</li>\n<li><span style='background:#b6ff05;'></span>10 Grasslands</li>\n<li><span style='background:#27ff87;'></span>11 Permanent wetlands</li>\n<li><span style='background:#c24f44;'></span>12 Croplands</li>\n<li><span style='background:#a5a5a5;'></span>13 Urban and built-up</li>\n<li><span style='background:#ff6d4c;'></span>14 Cropland/natural vegetation mosaic</li>\n<li><span style='background:#69fff8;'></span>15 Snow and ice</li>\n<li><span style='background:#f9ffa4;'></span>16 Barren or sparsely vegetated</li>\n<li><span style='background:#ffffff;'></span>254 Unclassified</li>\n    </ul>\n  </div>\n  </div>\n\n  <style type='text/css'>\n    .my-legend .legend-title {\n      text-align: left;\n      margin-bottom: 2px;\n      margin-left: 2px;\n      font-weight: bold;\n      font-size: 90%;\n      }\n    .my-legend .legend-scale ul {\n      margin: 0;\n      margin-bottom: 5px;\n      padding: 0;\n      float: left;\n      list-style: none;\n      }\n    .my-legend .legend-scale ul li {\n      font-size: 80%;\n      list-style: none;\n      margin-left: 1px;\n      line-height: 18px;\n      margin-bottom: 2px;\n      }\n    .my-legend ul.legend-labels li span {\n      display: block;\n      float: left;\n      height: 16px;\n      width: 30px;\n      margin-right: 5px;\n      margin-left: 2px;\n      border: 1px solid #999;\n      }\n    .my-legend .legend-source {\n      font-size: 70%;\n      color: #999;\n      clear: both;\n      }\n    .my-legend a {\n      color: #777;\n      }\n  </style>\n</body>\n</html>\n"
          }
        },
        "042ca1ec4b0a45e580683a10137a9b72": {
          "model_module": "@jupyter-widgets/base",
          "model_name": "LayoutModel",
          "model_module_version": "1.2.0",
          "state": {
            "_model_module": "@jupyter-widgets/base",
            "_model_module_version": "1.2.0",
            "_model_name": "LayoutModel",
            "_view_count": null,
            "_view_module": "@jupyter-widgets/base",
            "_view_module_version": "1.2.0",
            "_view_name": "LayoutView",
            "align_content": null,
            "align_items": null,
            "align_self": null,
            "border": null,
            "bottom": null,
            "display": null,
            "flex": null,
            "flex_flow": null,
            "grid_area": null,
            "grid_auto_columns": null,
            "grid_auto_flow": null,
            "grid_auto_rows": null,
            "grid_column": null,
            "grid_gap": null,
            "grid_row": null,
            "grid_template_areas": null,
            "grid_template_columns": null,
            "grid_template_rows": null,
            "height": null,
            "justify_content": null,
            "justify_items": null,
            "left": null,
            "margin": null,
            "max_height": null,
            "max_width": null,
            "min_height": null,
            "min_width": null,
            "object_fit": null,
            "object_position": null,
            "order": null,
            "overflow": null,
            "overflow_x": null,
            "overflow_y": null,
            "padding": null,
            "right": null,
            "top": null,
            "visibility": null,
            "width": null
          }
        },
        "1e90baccff53479b984f003a89515dec": {
          "model_module": "@jupyter-widgets/controls",
          "model_name": "DescriptionStyleModel",
          "model_module_version": "1.5.0",
          "state": {
            "_model_module": "@jupyter-widgets/controls",
            "_model_module_version": "1.5.0",
            "_model_name": "DescriptionStyleModel",
            "_view_count": null,
            "_view_module": "@jupyter-widgets/base",
            "_view_module_version": "1.2.0",
            "_view_name": "StyleView",
            "description_width": ""
          }
        }
      }
    }
  },
  "cells": [
    {
      "cell_type": "markdown",
      "source": [
        "**WELCOME TO PART II HACKERS**\n",
        "\n",
        "> We will quickly introduce you to the various packages you will need to help you develop the Geographical Information System application/website/dashboard using Colab\n",
        "\n",
        "\n",
        "---\n",
        "\n"
      ],
      "metadata": {
        "id": "HqREu4dqNqn4"
      }
    },
    {
      "cell_type": "markdown",
      "source": [
        "1.   GEEMAP is a Python package for interactive geospatial analysis and visualization with Google Earth Engine (GEE), which is a cloud computing platform with a multi-petabyte catalog of satellite imagery and geospatial datasets. You will need to install it to interact with readily available satellite image data.\n",
        "\n",
        "\n"
      ],
      "metadata": {
        "id": "Zbl02CTmTp8Z"
      }
    },
    {
      "cell_type": "code",
      "source": [
        "!pip install geemap"
      ],
      "metadata": {
        "id": "hEqFKPeSuFZu",
        "colab": {
          "base_uri": "https://localhost:8080/"
        },
        "outputId": "6001132e-c226-4ffe-d2a0-4c688d70a5d6"
      },
      "execution_count": 1,
      "outputs": [
        {
          "output_type": "stream",
          "name": "stdout",
          "text": [
            "Requirement already satisfied: geemap in /usr/local/lib/python3.10/dist-packages (0.32.0)\n",
            "Requirement already satisfied: bqplot in /usr/local/lib/python3.10/dist-packages (from geemap) (0.12.43)\n",
            "Requirement already satisfied: colour in /usr/local/lib/python3.10/dist-packages (from geemap) (0.1.5)\n",
            "Requirement already satisfied: earthengine-api>=0.1.347 in /usr/local/lib/python3.10/dist-packages (from geemap) (0.1.394)\n",
            "Requirement already satisfied: eerepr>=0.0.4 in /usr/local/lib/python3.10/dist-packages (from geemap) (0.0.4)\n",
            "Requirement already satisfied: folium>=0.13.0 in /usr/local/lib/python3.10/dist-packages (from geemap) (0.14.0)\n",
            "Requirement already satisfied: geocoder in /usr/local/lib/python3.10/dist-packages (from geemap) (1.38.1)\n",
            "Requirement already satisfied: ipyevents in /usr/local/lib/python3.10/dist-packages (from geemap) (2.0.2)\n",
            "Requirement already satisfied: ipyfilechooser>=0.6.0 in /usr/local/lib/python3.10/dist-packages (from geemap) (0.6.0)\n",
            "Requirement already satisfied: ipyleaflet>=0.17.0 in /usr/local/lib/python3.10/dist-packages (from geemap) (0.18.2)\n",
            "Requirement already satisfied: ipytree in /usr/local/lib/python3.10/dist-packages (from geemap) (0.2.2)\n",
            "Requirement already satisfied: matplotlib in /usr/local/lib/python3.10/dist-packages (from geemap) (3.7.1)\n",
            "Requirement already satisfied: numpy in /usr/local/lib/python3.10/dist-packages (from geemap) (1.25.2)\n",
            "Requirement already satisfied: pandas in /usr/local/lib/python3.10/dist-packages (from geemap) (1.5.3)\n",
            "Requirement already satisfied: plotly in /usr/local/lib/python3.10/dist-packages (from geemap) (5.15.0)\n",
            "Requirement already satisfied: pyperclip in /usr/local/lib/python3.10/dist-packages (from geemap) (1.8.2)\n",
            "Requirement already satisfied: pyshp>=2.1.3 in /usr/local/lib/python3.10/dist-packages (from geemap) (2.3.1)\n",
            "Requirement already satisfied: python-box in /usr/local/lib/python3.10/dist-packages (from geemap) (7.1.1)\n",
            "Requirement already satisfied: scooby in /usr/local/lib/python3.10/dist-packages (from geemap) (0.9.2)\n",
            "Requirement already satisfied: google-cloud-storage in /usr/local/lib/python3.10/dist-packages (from earthengine-api>=0.1.347->geemap) (2.8.0)\n",
            "Requirement already satisfied: google-api-python-client>=1.12.1 in /usr/local/lib/python3.10/dist-packages (from earthengine-api>=0.1.347->geemap) (2.84.0)\n",
            "Requirement already satisfied: google-auth>=1.4.1 in /usr/local/lib/python3.10/dist-packages (from earthengine-api>=0.1.347->geemap) (2.27.0)\n",
            "Requirement already satisfied: google-auth-httplib2>=0.0.3 in /usr/local/lib/python3.10/dist-packages (from earthengine-api>=0.1.347->geemap) (0.1.1)\n",
            "Requirement already satisfied: httplib2<1dev,>=0.9.2 in /usr/local/lib/python3.10/dist-packages (from earthengine-api>=0.1.347->geemap) (0.22.0)\n",
            "Requirement already satisfied: requests in /usr/local/lib/python3.10/dist-packages (from earthengine-api>=0.1.347->geemap) (2.31.0)\n",
            "Requirement already satisfied: branca>=0.6.0 in /usr/local/lib/python3.10/dist-packages (from folium>=0.13.0->geemap) (0.7.1)\n",
            "Requirement already satisfied: jinja2>=2.9 in /usr/local/lib/python3.10/dist-packages (from folium>=0.13.0->geemap) (3.1.3)\n",
            "Requirement already satisfied: ipywidgets in /usr/local/lib/python3.10/dist-packages (from ipyfilechooser>=0.6.0->geemap) (7.7.1)\n",
            "Requirement already satisfied: traittypes<3,>=0.2.1 in /usr/local/lib/python3.10/dist-packages (from ipyleaflet>=0.17.0->geemap) (0.2.1)\n",
            "Requirement already satisfied: xyzservices>=2021.8.1 in /usr/local/lib/python3.10/dist-packages (from ipyleaflet>=0.17.0->geemap) (2023.10.1)\n",
            "Requirement already satisfied: traitlets>=4.3.0 in /usr/local/lib/python3.10/dist-packages (from bqplot->geemap) (5.7.1)\n",
            "Requirement already satisfied: python-dateutil>=2.8.1 in /usr/local/lib/python3.10/dist-packages (from pandas->geemap) (2.8.2)\n",
            "Requirement already satisfied: pytz>=2020.1 in /usr/local/lib/python3.10/dist-packages (from pandas->geemap) (2023.4)\n",
            "Requirement already satisfied: click in /usr/local/lib/python3.10/dist-packages (from geocoder->geemap) (8.1.7)\n",
            "Requirement already satisfied: future in /usr/local/lib/python3.10/dist-packages (from geocoder->geemap) (0.18.3)\n",
            "Requirement already satisfied: ratelim in /usr/local/lib/python3.10/dist-packages (from geocoder->geemap) (0.1.6)\n",
            "Requirement already satisfied: six in /usr/local/lib/python3.10/dist-packages (from geocoder->geemap) (1.16.0)\n",
            "Requirement already satisfied: contourpy>=1.0.1 in /usr/local/lib/python3.10/dist-packages (from matplotlib->geemap) (1.2.0)\n",
            "Requirement already satisfied: cycler>=0.10 in /usr/local/lib/python3.10/dist-packages (from matplotlib->geemap) (0.12.1)\n",
            "Requirement already satisfied: fonttools>=4.22.0 in /usr/local/lib/python3.10/dist-packages (from matplotlib->geemap) (4.49.0)\n",
            "Requirement already satisfied: kiwisolver>=1.0.1 in /usr/local/lib/python3.10/dist-packages (from matplotlib->geemap) (1.4.5)\n",
            "Requirement already satisfied: packaging>=20.0 in /usr/local/lib/python3.10/dist-packages (from matplotlib->geemap) (24.0)\n",
            "Requirement already satisfied: pillow>=6.2.0 in /usr/local/lib/python3.10/dist-packages (from matplotlib->geemap) (9.4.0)\n",
            "Requirement already satisfied: pyparsing>=2.3.1 in /usr/local/lib/python3.10/dist-packages (from matplotlib->geemap) (3.1.2)\n",
            "Requirement already satisfied: tenacity>=6.2.0 in /usr/local/lib/python3.10/dist-packages (from plotly->geemap) (8.2.3)\n",
            "Requirement already satisfied: google-api-core!=2.0.*,!=2.1.*,!=2.2.*,!=2.3.0,<3.0.0dev,>=1.31.5 in /usr/local/lib/python3.10/dist-packages (from google-api-python-client>=1.12.1->earthengine-api>=0.1.347->geemap) (2.11.1)\n",
            "Requirement already satisfied: uritemplate<5,>=3.0.1 in /usr/local/lib/python3.10/dist-packages (from google-api-python-client>=1.12.1->earthengine-api>=0.1.347->geemap) (4.1.1)\n",
            "Requirement already satisfied: cachetools<6.0,>=2.0.0 in /usr/local/lib/python3.10/dist-packages (from google-auth>=1.4.1->earthengine-api>=0.1.347->geemap) (5.3.3)\n",
            "Requirement already satisfied: pyasn1-modules>=0.2.1 in /usr/local/lib/python3.10/dist-packages (from google-auth>=1.4.1->earthengine-api>=0.1.347->geemap) (0.3.0)\n",
            "Requirement already satisfied: rsa<5,>=3.1.4 in /usr/local/lib/python3.10/dist-packages (from google-auth>=1.4.1->earthengine-api>=0.1.347->geemap) (4.9)\n",
            "Requirement already satisfied: ipykernel>=4.5.1 in /usr/local/lib/python3.10/dist-packages (from ipywidgets->ipyfilechooser>=0.6.0->geemap) (5.5.6)\n",
            "Requirement already satisfied: ipython-genutils~=0.2.0 in /usr/local/lib/python3.10/dist-packages (from ipywidgets->ipyfilechooser>=0.6.0->geemap) (0.2.0)\n",
            "Requirement already satisfied: widgetsnbextension~=3.6.0 in /usr/local/lib/python3.10/dist-packages (from ipywidgets->ipyfilechooser>=0.6.0->geemap) (3.6.6)\n",
            "Requirement already satisfied: ipython>=4.0.0 in /usr/local/lib/python3.10/dist-packages (from ipywidgets->ipyfilechooser>=0.6.0->geemap) (7.34.0)\n",
            "Requirement already satisfied: jupyterlab-widgets>=1.0.0 in /usr/local/lib/python3.10/dist-packages (from ipywidgets->ipyfilechooser>=0.6.0->geemap) (3.0.10)\n",
            "Requirement already satisfied: MarkupSafe>=2.0 in /usr/local/lib/python3.10/dist-packages (from jinja2>=2.9->folium>=0.13.0->geemap) (2.1.5)\n",
            "Requirement already satisfied: google-cloud-core<3.0dev,>=2.3.0 in /usr/local/lib/python3.10/dist-packages (from google-cloud-storage->earthengine-api>=0.1.347->geemap) (2.3.3)\n",
            "Requirement already satisfied: google-resumable-media>=2.3.2 in /usr/local/lib/python3.10/dist-packages (from google-cloud-storage->earthengine-api>=0.1.347->geemap) (2.7.0)\n",
            "Requirement already satisfied: charset-normalizer<4,>=2 in /usr/local/lib/python3.10/dist-packages (from requests->earthengine-api>=0.1.347->geemap) (3.3.2)\n",
            "Requirement already satisfied: idna<4,>=2.5 in /usr/local/lib/python3.10/dist-packages (from requests->earthengine-api>=0.1.347->geemap) (3.6)\n",
            "Requirement already satisfied: urllib3<3,>=1.21.1 in /usr/local/lib/python3.10/dist-packages (from requests->earthengine-api>=0.1.347->geemap) (2.0.7)\n",
            "Requirement already satisfied: certifi>=2017.4.17 in /usr/local/lib/python3.10/dist-packages (from requests->earthengine-api>=0.1.347->geemap) (2024.2.2)\n",
            "Requirement already satisfied: decorator in /usr/local/lib/python3.10/dist-packages (from ratelim->geocoder->geemap) (4.4.2)\n",
            "Requirement already satisfied: googleapis-common-protos<2.0.dev0,>=1.56.2 in /usr/local/lib/python3.10/dist-packages (from google-api-core!=2.0.*,!=2.1.*,!=2.2.*,!=2.3.0,<3.0.0dev,>=1.31.5->google-api-python-client>=1.12.1->earthengine-api>=0.1.347->geemap) (1.63.0)\n",
            "Requirement already satisfied: protobuf!=3.20.0,!=3.20.1,!=4.21.0,!=4.21.1,!=4.21.2,!=4.21.3,!=4.21.4,!=4.21.5,<5.0.0.dev0,>=3.19.5 in /usr/local/lib/python3.10/dist-packages (from google-api-core!=2.0.*,!=2.1.*,!=2.2.*,!=2.3.0,<3.0.0dev,>=1.31.5->google-api-python-client>=1.12.1->earthengine-api>=0.1.347->geemap) (3.20.3)\n",
            "Requirement already satisfied: google-crc32c<2.0dev,>=1.0 in /usr/local/lib/python3.10/dist-packages (from google-resumable-media>=2.3.2->google-cloud-storage->earthengine-api>=0.1.347->geemap) (1.5.0)\n",
            "Requirement already satisfied: jupyter-client in /usr/local/lib/python3.10/dist-packages (from ipykernel>=4.5.1->ipywidgets->ipyfilechooser>=0.6.0->geemap) (6.1.12)\n",
            "Requirement already satisfied: tornado>=4.2 in /usr/local/lib/python3.10/dist-packages (from ipykernel>=4.5.1->ipywidgets->ipyfilechooser>=0.6.0->geemap) (6.3.3)\n",
            "Requirement already satisfied: setuptools>=18.5 in /usr/local/lib/python3.10/dist-packages (from ipython>=4.0.0->ipywidgets->ipyfilechooser>=0.6.0->geemap) (67.7.2)\n",
            "Collecting jedi>=0.16 (from ipython>=4.0.0->ipywidgets->ipyfilechooser>=0.6.0->geemap)\n",
            "  Downloading jedi-0.19.1-py2.py3-none-any.whl (1.6 MB)\n",
            "\u001b[2K     \u001b[90m━━━━━━━━━━━━━━━━━━━━━━━━━━━━━━━━━━━━━━━━\u001b[0m \u001b[32m1.6/1.6 MB\u001b[0m \u001b[31m6.5 MB/s\u001b[0m eta \u001b[36m0:00:00\u001b[0m\n",
            "\u001b[?25hRequirement already satisfied: pickleshare in /usr/local/lib/python3.10/dist-packages (from ipython>=4.0.0->ipywidgets->ipyfilechooser>=0.6.0->geemap) (0.7.5)\n",
            "Requirement already satisfied: prompt-toolkit!=3.0.0,!=3.0.1,<3.1.0,>=2.0.0 in /usr/local/lib/python3.10/dist-packages (from ipython>=4.0.0->ipywidgets->ipyfilechooser>=0.6.0->geemap) (3.0.43)\n",
            "Requirement already satisfied: pygments in /usr/local/lib/python3.10/dist-packages (from ipython>=4.0.0->ipywidgets->ipyfilechooser>=0.6.0->geemap) (2.16.1)\n",
            "Requirement already satisfied: backcall in /usr/local/lib/python3.10/dist-packages (from ipython>=4.0.0->ipywidgets->ipyfilechooser>=0.6.0->geemap) (0.2.0)\n",
            "Requirement already satisfied: matplotlib-inline in /usr/local/lib/python3.10/dist-packages (from ipython>=4.0.0->ipywidgets->ipyfilechooser>=0.6.0->geemap) (0.1.6)\n",
            "Requirement already satisfied: pexpect>4.3 in /usr/local/lib/python3.10/dist-packages (from ipython>=4.0.0->ipywidgets->ipyfilechooser>=0.6.0->geemap) (4.9.0)\n",
            "Requirement already satisfied: pyasn1<0.6.0,>=0.4.6 in /usr/local/lib/python3.10/dist-packages (from pyasn1-modules>=0.2.1->google-auth>=1.4.1->earthengine-api>=0.1.347->geemap) (0.5.1)\n",
            "Requirement already satisfied: notebook>=4.4.1 in /usr/local/lib/python3.10/dist-packages (from widgetsnbextension~=3.6.0->ipywidgets->ipyfilechooser>=0.6.0->geemap) (6.5.5)\n",
            "Requirement already satisfied: parso<0.9.0,>=0.8.3 in /usr/local/lib/python3.10/dist-packages (from jedi>=0.16->ipython>=4.0.0->ipywidgets->ipyfilechooser>=0.6.0->geemap) (0.8.3)\n",
            "Requirement already satisfied: pyzmq<25,>=17 in /usr/local/lib/python3.10/dist-packages (from notebook>=4.4.1->widgetsnbextension~=3.6.0->ipywidgets->ipyfilechooser>=0.6.0->geemap) (23.2.1)\n",
            "Requirement already satisfied: argon2-cffi in /usr/local/lib/python3.10/dist-packages (from notebook>=4.4.1->widgetsnbextension~=3.6.0->ipywidgets->ipyfilechooser>=0.6.0->geemap) (23.1.0)\n",
            "Requirement already satisfied: jupyter-core>=4.6.1 in /usr/local/lib/python3.10/dist-packages (from notebook>=4.4.1->widgetsnbextension~=3.6.0->ipywidgets->ipyfilechooser>=0.6.0->geemap) (5.7.2)\n",
            "Requirement already satisfied: nbformat in /usr/local/lib/python3.10/dist-packages (from notebook>=4.4.1->widgetsnbextension~=3.6.0->ipywidgets->ipyfilechooser>=0.6.0->geemap) (5.10.2)\n",
            "Requirement already satisfied: nbconvert>=5 in /usr/local/lib/python3.10/dist-packages (from notebook>=4.4.1->widgetsnbextension~=3.6.0->ipywidgets->ipyfilechooser>=0.6.0->geemap) (6.5.4)\n",
            "Requirement already satisfied: nest-asyncio>=1.5 in /usr/local/lib/python3.10/dist-packages (from notebook>=4.4.1->widgetsnbextension~=3.6.0->ipywidgets->ipyfilechooser>=0.6.0->geemap) (1.6.0)\n",
            "Requirement already satisfied: Send2Trash>=1.8.0 in /usr/local/lib/python3.10/dist-packages (from notebook>=4.4.1->widgetsnbextension~=3.6.0->ipywidgets->ipyfilechooser>=0.6.0->geemap) (1.8.2)\n",
            "Requirement already satisfied: terminado>=0.8.3 in /usr/local/lib/python3.10/dist-packages (from notebook>=4.4.1->widgetsnbextension~=3.6.0->ipywidgets->ipyfilechooser>=0.6.0->geemap) (0.18.1)\n",
            "Requirement already satisfied: prometheus-client in /usr/local/lib/python3.10/dist-packages (from notebook>=4.4.1->widgetsnbextension~=3.6.0->ipywidgets->ipyfilechooser>=0.6.0->geemap) (0.20.0)\n",
            "Requirement already satisfied: nbclassic>=0.4.7 in /usr/local/lib/python3.10/dist-packages (from notebook>=4.4.1->widgetsnbextension~=3.6.0->ipywidgets->ipyfilechooser>=0.6.0->geemap) (1.0.0)\n",
            "Requirement already satisfied: ptyprocess>=0.5 in /usr/local/lib/python3.10/dist-packages (from pexpect>4.3->ipython>=4.0.0->ipywidgets->ipyfilechooser>=0.6.0->geemap) (0.7.0)\n",
            "Requirement already satisfied: wcwidth in /usr/local/lib/python3.10/dist-packages (from prompt-toolkit!=3.0.0,!=3.0.1,<3.1.0,>=2.0.0->ipython>=4.0.0->ipywidgets->ipyfilechooser>=0.6.0->geemap) (0.2.13)\n",
            "Requirement already satisfied: platformdirs>=2.5 in /usr/local/lib/python3.10/dist-packages (from jupyter-core>=4.6.1->notebook>=4.4.1->widgetsnbextension~=3.6.0->ipywidgets->ipyfilechooser>=0.6.0->geemap) (4.2.0)\n",
            "Requirement already satisfied: jupyter-server>=1.8 in /usr/local/lib/python3.10/dist-packages (from nbclassic>=0.4.7->notebook>=4.4.1->widgetsnbextension~=3.6.0->ipywidgets->ipyfilechooser>=0.6.0->geemap) (1.24.0)\n",
            "Requirement already satisfied: notebook-shim>=0.2.3 in /usr/local/lib/python3.10/dist-packages (from nbclassic>=0.4.7->notebook>=4.4.1->widgetsnbextension~=3.6.0->ipywidgets->ipyfilechooser>=0.6.0->geemap) (0.2.4)\n",
            "Requirement already satisfied: lxml in /usr/local/lib/python3.10/dist-packages (from nbconvert>=5->notebook>=4.4.1->widgetsnbextension~=3.6.0->ipywidgets->ipyfilechooser>=0.6.0->geemap) (4.9.4)\n",
            "Requirement already satisfied: beautifulsoup4 in /usr/local/lib/python3.10/dist-packages (from nbconvert>=5->notebook>=4.4.1->widgetsnbextension~=3.6.0->ipywidgets->ipyfilechooser>=0.6.0->geemap) (4.12.3)\n",
            "Requirement already satisfied: bleach in /usr/local/lib/python3.10/dist-packages (from nbconvert>=5->notebook>=4.4.1->widgetsnbextension~=3.6.0->ipywidgets->ipyfilechooser>=0.6.0->geemap) (6.1.0)\n",
            "Requirement already satisfied: defusedxml in /usr/local/lib/python3.10/dist-packages (from nbconvert>=5->notebook>=4.4.1->widgetsnbextension~=3.6.0->ipywidgets->ipyfilechooser>=0.6.0->geemap) (0.7.1)\n",
            "Requirement already satisfied: entrypoints>=0.2.2 in /usr/local/lib/python3.10/dist-packages (from nbconvert>=5->notebook>=4.4.1->widgetsnbextension~=3.6.0->ipywidgets->ipyfilechooser>=0.6.0->geemap) (0.4)\n",
            "Requirement already satisfied: jupyterlab-pygments in /usr/local/lib/python3.10/dist-packages (from nbconvert>=5->notebook>=4.4.1->widgetsnbextension~=3.6.0->ipywidgets->ipyfilechooser>=0.6.0->geemap) (0.3.0)\n",
            "Requirement already satisfied: mistune<2,>=0.8.1 in /usr/local/lib/python3.10/dist-packages (from nbconvert>=5->notebook>=4.4.1->widgetsnbextension~=3.6.0->ipywidgets->ipyfilechooser>=0.6.0->geemap) (0.8.4)\n",
            "Requirement already satisfied: nbclient>=0.5.0 in /usr/local/lib/python3.10/dist-packages (from nbconvert>=5->notebook>=4.4.1->widgetsnbextension~=3.6.0->ipywidgets->ipyfilechooser>=0.6.0->geemap) (0.10.0)\n",
            "Requirement already satisfied: pandocfilters>=1.4.1 in /usr/local/lib/python3.10/dist-packages (from nbconvert>=5->notebook>=4.4.1->widgetsnbextension~=3.6.0->ipywidgets->ipyfilechooser>=0.6.0->geemap) (1.5.1)\n",
            "Requirement already satisfied: tinycss2 in /usr/local/lib/python3.10/dist-packages (from nbconvert>=5->notebook>=4.4.1->widgetsnbextension~=3.6.0->ipywidgets->ipyfilechooser>=0.6.0->geemap) (1.2.1)\n",
            "Requirement already satisfied: fastjsonschema in /usr/local/lib/python3.10/dist-packages (from nbformat->notebook>=4.4.1->widgetsnbextension~=3.6.0->ipywidgets->ipyfilechooser>=0.6.0->geemap) (2.19.1)\n",
            "Requirement already satisfied: jsonschema>=2.6 in /usr/local/lib/python3.10/dist-packages (from nbformat->notebook>=4.4.1->widgetsnbextension~=3.6.0->ipywidgets->ipyfilechooser>=0.6.0->geemap) (4.19.2)\n",
            "Requirement already satisfied: argon2-cffi-bindings in /usr/local/lib/python3.10/dist-packages (from argon2-cffi->notebook>=4.4.1->widgetsnbextension~=3.6.0->ipywidgets->ipyfilechooser>=0.6.0->geemap) (21.2.0)\n",
            "Requirement already satisfied: attrs>=22.2.0 in /usr/local/lib/python3.10/dist-packages (from jsonschema>=2.6->nbformat->notebook>=4.4.1->widgetsnbextension~=3.6.0->ipywidgets->ipyfilechooser>=0.6.0->geemap) (23.2.0)\n",
            "Requirement already satisfied: jsonschema-specifications>=2023.03.6 in /usr/local/lib/python3.10/dist-packages (from jsonschema>=2.6->nbformat->notebook>=4.4.1->widgetsnbextension~=3.6.0->ipywidgets->ipyfilechooser>=0.6.0->geemap) (2023.12.1)\n",
            "Requirement already satisfied: referencing>=0.28.4 in /usr/local/lib/python3.10/dist-packages (from jsonschema>=2.6->nbformat->notebook>=4.4.1->widgetsnbextension~=3.6.0->ipywidgets->ipyfilechooser>=0.6.0->geemap) (0.33.0)\n",
            "Requirement already satisfied: rpds-py>=0.7.1 in /usr/local/lib/python3.10/dist-packages (from jsonschema>=2.6->nbformat->notebook>=4.4.1->widgetsnbextension~=3.6.0->ipywidgets->ipyfilechooser>=0.6.0->geemap) (0.18.0)\n",
            "Requirement already satisfied: anyio<4,>=3.1.0 in /usr/local/lib/python3.10/dist-packages (from jupyter-server>=1.8->nbclassic>=0.4.7->notebook>=4.4.1->widgetsnbextension~=3.6.0->ipywidgets->ipyfilechooser>=0.6.0->geemap) (3.7.1)\n",
            "Requirement already satisfied: websocket-client in /usr/local/lib/python3.10/dist-packages (from jupyter-server>=1.8->nbclassic>=0.4.7->notebook>=4.4.1->widgetsnbextension~=3.6.0->ipywidgets->ipyfilechooser>=0.6.0->geemap) (1.7.0)\n",
            "Requirement already satisfied: cffi>=1.0.1 in /usr/local/lib/python3.10/dist-packages (from argon2-cffi-bindings->argon2-cffi->notebook>=4.4.1->widgetsnbextension~=3.6.0->ipywidgets->ipyfilechooser>=0.6.0->geemap) (1.16.0)\n",
            "Requirement already satisfied: soupsieve>1.2 in /usr/local/lib/python3.10/dist-packages (from beautifulsoup4->nbconvert>=5->notebook>=4.4.1->widgetsnbextension~=3.6.0->ipywidgets->ipyfilechooser>=0.6.0->geemap) (2.5)\n",
            "Requirement already satisfied: webencodings in /usr/local/lib/python3.10/dist-packages (from bleach->nbconvert>=5->notebook>=4.4.1->widgetsnbextension~=3.6.0->ipywidgets->ipyfilechooser>=0.6.0->geemap) (0.5.1)\n",
            "Requirement already satisfied: sniffio>=1.1 in /usr/local/lib/python3.10/dist-packages (from anyio<4,>=3.1.0->jupyter-server>=1.8->nbclassic>=0.4.7->notebook>=4.4.1->widgetsnbextension~=3.6.0->ipywidgets->ipyfilechooser>=0.6.0->geemap) (1.3.1)\n",
            "Requirement already satisfied: exceptiongroup in /usr/local/lib/python3.10/dist-packages (from anyio<4,>=3.1.0->jupyter-server>=1.8->nbclassic>=0.4.7->notebook>=4.4.1->widgetsnbextension~=3.6.0->ipywidgets->ipyfilechooser>=0.6.0->geemap) (1.2.0)\n",
            "Requirement already satisfied: pycparser in /usr/local/lib/python3.10/dist-packages (from cffi>=1.0.1->argon2-cffi-bindings->argon2-cffi->notebook>=4.4.1->widgetsnbextension~=3.6.0->ipywidgets->ipyfilechooser>=0.6.0->geemap) (2.21)\n",
            "Installing collected packages: jedi\n",
            "Successfully installed jedi-0.19.1\n"
          ]
        }
      ]
    },
    {
      "cell_type": "code",
      "source": [
        "!pip install PyCRS"
      ],
      "metadata": {
        "id": "P7MWsv6FvjHv",
        "colab": {
          "base_uri": "https://localhost:8080/"
        },
        "outputId": "a7acf855-656e-4942-df04-3d65d4ec347e"
      },
      "execution_count": 2,
      "outputs": [
        {
          "output_type": "stream",
          "name": "stdout",
          "text": [
            "Collecting PyCRS\n",
            "  Downloading PyCRS-1.0.2.tar.gz (36 kB)\n",
            "  Preparing metadata (setup.py) ... \u001b[?25l\u001b[?25hdone\n",
            "Building wheels for collected packages: PyCRS\n",
            "  Building wheel for PyCRS (setup.py) ... \u001b[?25l\u001b[?25hdone\n",
            "  Created wheel for PyCRS: filename=PyCRS-1.0.2-py3-none-any.whl size=32687 sha256=1bac22f679721144b30413a675f0a1fddc35f837de7d1c97fa20c7e4bbf13d98\n",
            "  Stored in directory: /root/.cache/pip/wheels/47/1d/70/7a5bdf33347e7c75e95b06b1fa38f076a59a9506653cc24aff\n",
            "Successfully built PyCRS\n",
            "Installing collected packages: PyCRS\n",
            "Successfully installed PyCRS-1.0.2\n"
          ]
        }
      ]
    },
    {
      "cell_type": "code",
      "source": [
        "import geemap"
      ],
      "metadata": {
        "id": "oGaq7B-sOEK7"
      },
      "execution_count": 3,
      "outputs": []
    },
    {
      "cell_type": "code",
      "source": [
        "import ee"
      ],
      "metadata": {
        "id": "MXZGuLlXAGWt",
        "colab": {
          "base_uri": "https://localhost:8080/",
          "height": 17
        },
        "outputId": "648da834-44c7-4c54-cabb-3cb51e2dbb1f"
      },
      "execution_count": 4,
      "outputs": [
        {
          "output_type": "display_data",
          "data": {
            "text/plain": [
              "<IPython.core.display.HTML object>"
            ],
            "text/html": [
              "\n",
              "            <style>\n",
              "                .geemap-dark {\n",
              "                    --jp-widgets-color: white;\n",
              "                    --jp-widgets-label-color: white;\n",
              "                    --jp-ui-font-color1: white;\n",
              "                    --jp-layout-color2: #454545;\n",
              "                    background-color: #383838;\n",
              "                }\n",
              "\n",
              "                .geemap-dark .jupyter-button {\n",
              "                    --jp-layout-color3: #383838;\n",
              "                }\n",
              "\n",
              "                .geemap-colab {\n",
              "                    background-color: var(--colab-primary-surface-color, white);\n",
              "                }\n",
              "\n",
              "                .geemap-colab .jupyter-button {\n",
              "                    --jp-layout-color3: var(--colab-primary-surface-color, white);\n",
              "                }\n",
              "            </style>\n",
              "            "
            ]
          },
          "metadata": {}
        }
      ]
    },
    {
      "cell_type": "code",
      "source": [
        "import os"
      ],
      "metadata": {
        "id": "ICKZAwB8VWTT",
        "colab": {
          "base_uri": "https://localhost:8080/",
          "height": 17
        },
        "outputId": "a63d907d-05cd-46f1-f98b-59d74d4d66ee"
      },
      "execution_count": 5,
      "outputs": [
        {
          "output_type": "display_data",
          "data": {
            "text/plain": [
              "<IPython.core.display.HTML object>"
            ],
            "text/html": [
              "\n",
              "            <style>\n",
              "                .geemap-dark {\n",
              "                    --jp-widgets-color: white;\n",
              "                    --jp-widgets-label-color: white;\n",
              "                    --jp-ui-font-color1: white;\n",
              "                    --jp-layout-color2: #454545;\n",
              "                    background-color: #383838;\n",
              "                }\n",
              "\n",
              "                .geemap-dark .jupyter-button {\n",
              "                    --jp-layout-color3: #383838;\n",
              "                }\n",
              "\n",
              "                .geemap-colab {\n",
              "                    background-color: var(--colab-primary-surface-color, white);\n",
              "                }\n",
              "\n",
              "                .geemap-colab .jupyter-button {\n",
              "                    --jp-layout-color3: var(--colab-primary-surface-color, white);\n",
              "                }\n",
              "            </style>\n",
              "            "
            ]
          },
          "metadata": {}
        }
      ]
    },
    {
      "cell_type": "code",
      "source": [
        "import geopandas"
      ],
      "metadata": {
        "id": "XbmVg3N5lmkG",
        "colab": {
          "base_uri": "https://localhost:8080/",
          "height": 17
        },
        "outputId": "0aa027cb-ca1d-4cab-f56c-9e82b98ac6ed"
      },
      "execution_count": 6,
      "outputs": [
        {
          "output_type": "display_data",
          "data": {
            "text/plain": [
              "<IPython.core.display.HTML object>"
            ],
            "text/html": [
              "\n",
              "            <style>\n",
              "                .geemap-dark {\n",
              "                    --jp-widgets-color: white;\n",
              "                    --jp-widgets-label-color: white;\n",
              "                    --jp-ui-font-color1: white;\n",
              "                    --jp-layout-color2: #454545;\n",
              "                    background-color: #383838;\n",
              "                }\n",
              "\n",
              "                .geemap-dark .jupyter-button {\n",
              "                    --jp-layout-color3: #383838;\n",
              "                }\n",
              "\n",
              "                .geemap-colab {\n",
              "                    background-color: var(--colab-primary-surface-color, white);\n",
              "                }\n",
              "\n",
              "                .geemap-colab .jupyter-button {\n",
              "                    --jp-layout-color3: var(--colab-primary-surface-color, white);\n",
              "                }\n",
              "            </style>\n",
              "            "
            ]
          },
          "metadata": {}
        }
      ]
    },
    {
      "cell_type": "code",
      "source": [
        "from geemap import geojson_to_ee, ee_to_geojson"
      ],
      "metadata": {
        "id": "3OfAzWltLaHx",
        "colab": {
          "base_uri": "https://localhost:8080/",
          "height": 17
        },
        "outputId": "4ad31460-12c6-4c42-c785-0f2d798b137e"
      },
      "execution_count": 7,
      "outputs": [
        {
          "output_type": "display_data",
          "data": {
            "text/plain": [
              "<IPython.core.display.HTML object>"
            ],
            "text/html": [
              "\n",
              "            <style>\n",
              "                .geemap-dark {\n",
              "                    --jp-widgets-color: white;\n",
              "                    --jp-widgets-label-color: white;\n",
              "                    --jp-ui-font-color1: white;\n",
              "                    --jp-layout-color2: #454545;\n",
              "                    background-color: #383838;\n",
              "                }\n",
              "\n",
              "                .geemap-dark .jupyter-button {\n",
              "                    --jp-layout-color3: #383838;\n",
              "                }\n",
              "\n",
              "                .geemap-colab {\n",
              "                    background-color: var(--colab-primary-surface-color, white);\n",
              "                }\n",
              "\n",
              "                .geemap-colab .jupyter-button {\n",
              "                    --jp-layout-color3: var(--colab-primary-surface-color, white);\n",
              "                }\n",
              "            </style>\n",
              "            "
            ]
          },
          "metadata": {}
        }
      ]
    },
    {
      "cell_type": "markdown",
      "source": [
        "\n",
        "2.   Authentication with Earth Engine is required to connect your project with Earth Engine\n",
        "\n"
      ],
      "metadata": {
        "id": "wN-7YePVUg7I"
      }
    },
    {
      "cell_type": "markdown",
      "source": [
        "Run the ee.Authenticate function to authenticate your access to Earth Engine servers and ee.Initialize to initialize it. Upon running the following cell you'll be asked to grant Earth Engine access to your Google account. More at: https://developers.google.com/earth-engine/guides/python_install\n",
        "\n",
        "In case ee.Initialize() is not running, you need to create your own cloud EE project and enable API direclty to allow Colab to use EE features through this link: https://developers.google.com/earth-engine/cloud/earthengine_cloud_project_setup (follow the link on the section \"Create a Cloud project\" then proceed with the next section \"Enable the Earth Engine API\")"
      ],
      "metadata": {
        "id": "7enqPYsTVMXD"
      }
    },
    {
      "cell_type": "code",
      "source": [
        "ee.Authenticate()"
      ],
      "metadata": {
        "id": "M9J21sf3AIkX",
        "colab": {
          "base_uri": "https://localhost:8080/",
          "height": 17
        },
        "outputId": "155519ad-33a7-426f-d840-9b93cd6416d7"
      },
      "execution_count": 8,
      "outputs": [
        {
          "output_type": "display_data",
          "data": {
            "text/plain": [
              "<IPython.core.display.HTML object>"
            ],
            "text/html": [
              "\n",
              "            <style>\n",
              "                .geemap-dark {\n",
              "                    --jp-widgets-color: white;\n",
              "                    --jp-widgets-label-color: white;\n",
              "                    --jp-ui-font-color1: white;\n",
              "                    --jp-layout-color2: #454545;\n",
              "                    background-color: #383838;\n",
              "                }\n",
              "\n",
              "                .geemap-dark .jupyter-button {\n",
              "                    --jp-layout-color3: #383838;\n",
              "                }\n",
              "\n",
              "                .geemap-colab {\n",
              "                    background-color: var(--colab-primary-surface-color, white);\n",
              "                }\n",
              "\n",
              "                .geemap-colab .jupyter-button {\n",
              "                    --jp-layout-color3: var(--colab-primary-surface-color, white);\n",
              "                }\n",
              "            </style>\n",
              "            "
            ]
          },
          "metadata": {}
        }
      ]
    },
    {
      "cell_type": "code",
      "source": [
        "ee.Initialize (project = 'g20-brazil')"
      ],
      "metadata": {
        "id": "qog0xzLCAUJu",
        "colab": {
          "base_uri": "https://localhost:8080/",
          "height": 17
        },
        "outputId": "2b5b62e7-414a-43d1-9eb8-892513f46209"
      },
      "execution_count": 10,
      "outputs": [
        {
          "output_type": "display_data",
          "data": {
            "text/plain": [
              "<IPython.core.display.HTML object>"
            ],
            "text/html": [
              "\n",
              "            <style>\n",
              "                .geemap-dark {\n",
              "                    --jp-widgets-color: white;\n",
              "                    --jp-widgets-label-color: white;\n",
              "                    --jp-ui-font-color1: white;\n",
              "                    --jp-layout-color2: #454545;\n",
              "                    background-color: #383838;\n",
              "                }\n",
              "\n",
              "                .geemap-dark .jupyter-button {\n",
              "                    --jp-layout-color3: #383838;\n",
              "                }\n",
              "\n",
              "                .geemap-colab {\n",
              "                    background-color: var(--colab-primary-surface-color, white);\n",
              "                }\n",
              "\n",
              "                .geemap-colab .jupyter-button {\n",
              "                    --jp-layout-color3: var(--colab-primary-surface-color, white);\n",
              "                }\n",
              "            </style>\n",
              "            "
            ]
          },
          "metadata": {}
        }
      ]
    },
    {
      "cell_type": "markdown",
      "source": [
        "Alternatively: Open GEE Code Editor https://code.earthengine.google.com/, set up your own project manually (set up a non commerciable project) and enable permission for the GEE APIs for Colab.\n",
        "\n",
        "\n",
        "```\n",
        "ee.Initialize (project='your project name')\n",
        "```\n",
        "\n"
      ],
      "metadata": {
        "id": "lpjXwgi0crFK"
      }
    },
    {
      "cell_type": "markdown",
      "source": [
        "\n",
        "\n",
        "---\n",
        "\n"
      ],
      "metadata": {
        "id": "dzXPNW_LVYJR"
      }
    },
    {
      "cell_type": "markdown",
      "source": [
        "Now let's start with basic vizualization process, first you will be asked to upload the batch of shapefiles provided to you in your local file folder in collab. The Brazil.shp file serves as the official country boundary of our area of interest."
      ],
      "metadata": {
        "id": "np5XRuWmVa-P"
      }
    },
    {
      "cell_type": "code",
      "source": [
        "from google.colab import drive\n",
        "drive.mount('/gdrive')\n",
        "\n",
        "%cd /gdrive/MyDrive/G20/Data"
      ],
      "metadata": {
        "id": "qMhD_q99rxpy",
        "outputId": "2ea3782a-6767-4019-e3c8-f1b0e7e8f880",
        "colab": {
          "base_uri": "https://localhost:8080/",
          "height": 52
        }
      },
      "execution_count": 12,
      "outputs": [
        {
          "output_type": "display_data",
          "data": {
            "text/plain": [
              "<IPython.core.display.HTML object>"
            ],
            "text/html": [
              "\n",
              "            <style>\n",
              "                .geemap-dark {\n",
              "                    --jp-widgets-color: white;\n",
              "                    --jp-widgets-label-color: white;\n",
              "                    --jp-ui-font-color1: white;\n",
              "                    --jp-layout-color2: #454545;\n",
              "                    background-color: #383838;\n",
              "                }\n",
              "\n",
              "                .geemap-dark .jupyter-button {\n",
              "                    --jp-layout-color3: #383838;\n",
              "                }\n",
              "\n",
              "                .geemap-colab {\n",
              "                    background-color: var(--colab-primary-surface-color, white);\n",
              "                }\n",
              "\n",
              "                .geemap-colab .jupyter-button {\n",
              "                    --jp-layout-color3: var(--colab-primary-surface-color, white);\n",
              "                }\n",
              "            </style>\n",
              "            "
            ]
          },
          "metadata": {}
        },
        {
          "output_type": "stream",
          "name": "stdout",
          "text": [
            "Mounted at /gdrive\n",
            "/gdrive/.shortcut-targets-by-id/1c-3kX3SnlFERtZsMmgo1CczCIJ8F4T8m/Data\n"
          ]
        }
      ]
    },
    {
      "cell_type": "code",
      "source": [
        "brazil_shapefile = geemap.shp_to_ee('Brazil/Brazil/Brazil.shp')"
      ],
      "metadata": {
        "id": "9HfoaCXgklDs",
        "colab": {
          "base_uri": "https://localhost:8080/",
          "height": 17
        },
        "outputId": "3e4d968b-8ed8-4220-9465-a9544dad5e7d"
      },
      "execution_count": 16,
      "outputs": [
        {
          "output_type": "display_data",
          "data": {
            "text/plain": [
              "<IPython.core.display.HTML object>"
            ],
            "text/html": [
              "\n",
              "            <style>\n",
              "                .geemap-dark {\n",
              "                    --jp-widgets-color: white;\n",
              "                    --jp-widgets-label-color: white;\n",
              "                    --jp-ui-font-color1: white;\n",
              "                    --jp-layout-color2: #454545;\n",
              "                    background-color: #383838;\n",
              "                }\n",
              "\n",
              "                .geemap-dark .jupyter-button {\n",
              "                    --jp-layout-color3: #383838;\n",
              "                }\n",
              "\n",
              "                .geemap-colab {\n",
              "                    background-color: var(--colab-primary-surface-color, white);\n",
              "                }\n",
              "\n",
              "                .geemap-colab .jupyter-button {\n",
              "                    --jp-layout-color3: var(--colab-primary-surface-color, white);\n",
              "                }\n",
              "            </style>\n",
              "            "
            ]
          },
          "metadata": {}
        }
      ]
    },
    {
      "cell_type": "markdown",
      "source": [
        "Next, let's see how the land cover was in January 1st 2004 in Brazil using the MODIS MCD12Q1 Type 1 Land Cover"
      ],
      "metadata": {
        "id": "OVYqhyqfSVBE"
      }
    },
    {
      "cell_type": "code",
      "source": [
        "Map = geemap.Map()\n",
        "\n",
        "landcover = ee.Image('MODIS/006/MCD12Q1/2004_01_01').select('LC_Type1')\n",
        "\n",
        "igbpLandCoverVis = {\n",
        "    'min': 1.0,\n",
        "    'max': 17.0,\n",
        "    'palette': [\n",
        "        '05450a',\n",
        "        '086a10',\n",
        "        '54a708',\n",
        "        '78d203',\n",
        "        '009900',\n",
        "        'c6b044',\n",
        "        'dcd159',\n",
        "        'dade48',\n",
        "        'fbff13',\n",
        "        'b6ff05',\n",
        "        '27ff87',\n",
        "        'c24f44',\n",
        "        'a5a5a5',\n",
        "        'ff6d4c',\n",
        "        '69fff8',\n",
        "        'f9ffa4',\n",
        "        '1c0dff',\n",
        "    ],\n",
        "}\n",
        "brazil_lc = landcover.clip(brazil_shapefile)\n",
        "Map.setCenter(-55, -10, 4)\n",
        "Map.addLayer(brazil_lc, igbpLandCoverVis, 'MODIS Land Cover')\n",
        "\n",
        "Map"
      ],
      "metadata": {
        "id": "6iwRG92A1_zq",
        "colab": {
          "base_uri": "https://localhost:8080/",
          "height": 621,
          "referenced_widgets": [
            "c62fbc088e7445fd9d632e805f76b190",
            "661b4461503e4d1a80e8ad37c3a4a747",
            "b2b7cc006b854a67b482fa512775b03b",
            "1f26dff40005494ca7c92a893ac5afb2",
            "fe9cd515b26241cab4c59687678b967a",
            "e941dd595d4b467e983959ff7114c33f",
            "41c6d1a91f5444fea8d348e7f7dbe9fd",
            "9f4144b0be1c4f009833826a76e7fe2f",
            "24be49ad40d74fb89de9d2c7432f5327",
            "89e7bdbddb944afe9953b70a9ee7010c",
            "6c4947a69f944dc6960a84d25d736459",
            "dcd35ec2b7eb4f649bd5f8c1ccfa3bef",
            "6d9d1581e41a48adbf013659445c349d",
            "acbda5493fd84c8d903a1a63152e64fc",
            "c7aabecb1de0458fbdbe8896879c668e",
            "6c2b26aee4d740fc873706d77440791b",
            "5135b9181bf941fbad72b7fb75ec7bc2",
            "77cb751c875042eabb07e3d83f174c66",
            "a1262f78ec16410485f2c0475f597e95",
            "2dc798ce717845138001a32f0314ddb2",
            "5650439055f54d8d83cfecd236fbb7ae",
            "d795ea87c31b498e821368a2b328bce6",
            "d060036c67c04c648698374e400938dd",
            "2c18a79577724b2bb2159e3e8b504265",
            "4a5606010e8c4a1f8290a59785123192",
            "602d77707dfd434c93b6b79860e20ae2",
            "18b5fbf56d9f4d5896bf1a342c6cb975",
            "1d9a4ce271cf4ba993879f2a7ce9bdd4",
            "38fe3a4e258b4b47a149af0bb52a8157",
            "01bd904695cb4b88baaf319cbeefa089",
            "c15ee113f1ab4fe6b28769149a396dcb",
            "b86dc540ee6740268c95324e66302439",
            "da9178ee41bf472bb43a83badea283bc",
            "9da015df12524b4aba3f279189a87fd9",
            "088504a5e9ea493ca44fd8e85274db4d",
            "2b7c70ac5f764c1ebe26016d23ff7414",
            "33a87b850dc74acdb22c08c67bd5fd38",
            "e0e1c3b28bbe48ffbb53a8f5b945d5fd",
            "a376b05e90df4a41a982b9bd0c517a7d",
            "55462a3d620f49dd8c49f79de88b15ed",
            "042ca1ec4b0a45e580683a10137a9b72",
            "1e90baccff53479b984f003a89515dec"
          ]
        },
        "outputId": "c8682d88-176a-4674-bedb-a9737f4b5b64"
      },
      "execution_count": 17,
      "outputs": [
        {
          "output_type": "display_data",
          "data": {
            "text/plain": [
              "<IPython.core.display.HTML object>"
            ],
            "text/html": [
              "\n",
              "            <style>\n",
              "                .geemap-dark {\n",
              "                    --jp-widgets-color: white;\n",
              "                    --jp-widgets-label-color: white;\n",
              "                    --jp-ui-font-color1: white;\n",
              "                    --jp-layout-color2: #454545;\n",
              "                    background-color: #383838;\n",
              "                }\n",
              "\n",
              "                .geemap-dark .jupyter-button {\n",
              "                    --jp-layout-color3: #383838;\n",
              "                }\n",
              "\n",
              "                .geemap-colab {\n",
              "                    background-color: var(--colab-primary-surface-color, white);\n",
              "                }\n",
              "\n",
              "                .geemap-colab .jupyter-button {\n",
              "                    --jp-layout-color3: var(--colab-primary-surface-color, white);\n",
              "                }\n",
              "            </style>\n",
              "            "
            ]
          },
          "metadata": {}
        },
        {
          "output_type": "display_data",
          "data": {
            "text/plain": [
              "Map(center=[-10, -55], controls=(WidgetControl(options=['position', 'transparent_bg'], widget=SearchDataGUI(ch…"
            ],
            "application/vnd.jupyter.widget-view+json": {
              "version_major": 2,
              "version_minor": 0,
              "model_id": "c62fbc088e7445fd9d632e805f76b190"
            }
          },
          "metadata": {
            "application/vnd.jupyter.widget-view+json": {
              "colab": {
                "custom_widget_manager": {
                  "url": "https://ssl.gstatic.com/colaboratory-static/widgets/colab-cdn-widget-manager/2b70e893a8ba7c0f/manager.min.js"
                }
              }
            }
          }
        }
      ]
    },
    {
      "cell_type": "code",
      "source": [
        "        ['1-5'] forest\n",
        "        ['6-7'] shrublands\n",
        "        ['8-9-16'] savannas\n",
        "        ['12-14'] croplands\n",
        "        ['10'] grasslands\n",
        "        ['11'] wetlands\n",
        "        ['15'] snowIce"
      ],
      "metadata": {
        "id": "rI_voelgGVbx"
      },
      "execution_count": null,
      "outputs": []
    },
    {
      "cell_type": "code",
      "source": [
        "Map.add_legend(builtin_legend='MODIS/051/MCD12Q1')"
      ],
      "metadata": {
        "id": "uqD23s_fU_G-",
        "colab": {
          "base_uri": "https://localhost:8080/",
          "height": 17
        },
        "outputId": "d4fb1934-37bb-44dd-d4b3-b76a791d8c8f"
      },
      "execution_count": 18,
      "outputs": [
        {
          "output_type": "display_data",
          "data": {
            "text/plain": [
              "<IPython.core.display.HTML object>"
            ],
            "text/html": [
              "\n",
              "            <style>\n",
              "                .geemap-dark {\n",
              "                    --jp-widgets-color: white;\n",
              "                    --jp-widgets-label-color: white;\n",
              "                    --jp-ui-font-color1: white;\n",
              "                    --jp-layout-color2: #454545;\n",
              "                    background-color: #383838;\n",
              "                }\n",
              "\n",
              "                .geemap-dark .jupyter-button {\n",
              "                    --jp-layout-color3: #383838;\n",
              "                }\n",
              "\n",
              "                .geemap-colab {\n",
              "                    background-color: var(--colab-primary-surface-color, white);\n",
              "                }\n",
              "\n",
              "                .geemap-colab .jupyter-button {\n",
              "                    --jp-layout-color3: var(--colab-primary-surface-color, white);\n",
              "                }\n",
              "            </style>\n",
              "            "
            ]
          },
          "metadata": {}
        }
      ]
    },
    {
      "cell_type": "markdown",
      "source": [
        "Next, we can compute basic statistics of how much hectares of each LC type was in Brazil in 2004. This line will allow you to donwload the results in your colab directory"
      ],
      "metadata": {
        "id": "j6rW3uc0WSmq"
      }
    },
    {
      "cell_type": "code",
      "source": [
        "out_dir = os.path.join(os.path.expanduser('~'), 'Downloads')\n",
        "global_stats = os.path.join(out_dir, 'global_stats_sum.csv')\n",
        "\n",
        "# statistics_type can be either 'SUM' or 'PERCENTAGE'\n",
        "# denominator can be used to convert square meters to other areal units, such as square kilimeters\n",
        "geemap.zonal_statistics_by_group(\n",
        "    landcover,\n",
        "    brazil_shapefile,\n",
        "    global_stats,\n",
        "    statistics_type='SUM',\n",
        "    denominator=1000000,\n",
        "    decimal_places=2,\n",
        ")"
      ],
      "metadata": {
        "id": "wQXr_RqTVIbf",
        "colab": {
          "base_uri": "https://localhost:8080/",
          "height": 124
        },
        "outputId": "2d5e3737-a8f0-4a1f-f7ab-3b754fa90570"
      },
      "execution_count": 19,
      "outputs": [
        {
          "output_type": "display_data",
          "data": {
            "text/plain": [
              "<IPython.core.display.HTML object>"
            ],
            "text/html": [
              "\n",
              "            <style>\n",
              "                .geemap-dark {\n",
              "                    --jp-widgets-color: white;\n",
              "                    --jp-widgets-label-color: white;\n",
              "                    --jp-ui-font-color1: white;\n",
              "                    --jp-layout-color2: #454545;\n",
              "                    background-color: #383838;\n",
              "                }\n",
              "\n",
              "                .geemap-dark .jupyter-button {\n",
              "                    --jp-layout-color3: #383838;\n",
              "                }\n",
              "\n",
              "                .geemap-colab {\n",
              "                    background-color: var(--colab-primary-surface-color, white);\n",
              "                }\n",
              "\n",
              "                .geemap-colab .jupyter-button {\n",
              "                    --jp-layout-color3: var(--colab-primary-surface-color, white);\n",
              "                }\n",
              "            </style>\n",
              "            "
            ]
          },
          "metadata": {}
        },
        {
          "output_type": "stream",
          "name": "stdout",
          "text": [
            "Computing ... \n",
            "Generating URL ...\n",
            "Downloading data from https://earthengine.googleapis.com/v1/projects/g20-brazil/tables/439dd8134a7e8d45c01c088f7ff18b60-a63df62c315663b1bcdf73273e8a0357:getFeatures\n",
            "Please wait ...\n",
            "Data downloaded to /root/Downloads/global_stats_sum.csv\n"
          ]
        }
      ]
    },
    {
      "cell_type": "markdown",
      "source": [
        "Better: you can just count the number of pixel for each class. As a pixel for a MODIS image is 250 m x 250 m, the area for one class will be number of pixel x 250 x 250"
      ],
      "metadata": {
        "id": "M3qnRw8cY-c2"
      }
    },
    {
      "cell_type": "code",
      "source": [
        "import csv\n"
      ],
      "metadata": {
        "id": "LxLe6oCo-V4J",
        "outputId": "9d02b3e7-86af-46f0-e52c-2e4def7f8ee0",
        "colab": {
          "base_uri": "https://localhost:8080/",
          "height": 17
        }
      },
      "execution_count": 23,
      "outputs": [
        {
          "output_type": "display_data",
          "data": {
            "text/plain": [
              "<IPython.core.display.HTML object>"
            ],
            "text/html": [
              "\n",
              "            <style>\n",
              "                .geemap-dark {\n",
              "                    --jp-widgets-color: white;\n",
              "                    --jp-widgets-label-color: white;\n",
              "                    --jp-ui-font-color1: white;\n",
              "                    --jp-layout-color2: #454545;\n",
              "                    background-color: #383838;\n",
              "                }\n",
              "\n",
              "                .geemap-dark .jupyter-button {\n",
              "                    --jp-layout-color3: #383838;\n",
              "                }\n",
              "\n",
              "                .geemap-colab {\n",
              "                    background-color: var(--colab-primary-surface-color, white);\n",
              "                }\n",
              "\n",
              "                .geemap-colab .jupyter-button {\n",
              "                    --jp-layout-color3: var(--colab-primary-surface-color, white);\n",
              "                }\n",
              "            </style>\n",
              "            "
            ]
          },
          "metadata": {}
        }
      ]
    },
    {
      "cell_type": "code",
      "source": [
        "# A FeatureCollection defining Brazil boundary.\n",
        "fc = ee.FeatureCollection('USDOS/LSIB_SIMPLE/2017').filter(\n",
        "    'country_na == \"Brazil\"'\n",
        ")\n",
        "lc03 = ee.Image('MODIS/006/MCD12Q1/2003_01_01').select('LC_Type1')\n",
        "lc04 = ee.Image('MODIS/006/MCD12Q1/2004_01_01').select('LC_Type1')\n",
        "lc05 = ee.Image('MODIS/006/MCD12Q1/2005_01_01').select('LC_Type1')\n",
        "lc06 = ee.Image('MODIS/006/MCD12Q1/2006_01_01').select('LC_Type1')\n",
        "lc07 = ee.Image('MODIS/006/MCD12Q1/2007_01_01').select('LC_Type1')\n",
        "lc08 = ee.Image('MODIS/006/MCD12Q1/2008_01_01').select('LC_Type1')\n",
        "lc09 = ee.Image('MODIS/006/MCD12Q1/2009_01_01').select('LC_Type1')\n",
        "lc10 = ee.Image('MODIS/006/MCD12Q1/2010_01_01').select('LC_Type1')\n",
        "lc11 = ee.Image('MODIS/006/MCD12Q1/2011_01_01').select('LC_Type1')\n",
        "lc12 = ee.Image('MODIS/006/MCD12Q1/2012_01_01').select('LC_Type1')\n",
        "lc13 = ee.Image('MODIS/006/MCD12Q1/2013_01_01').select('LC_Type1')\n",
        "lc14 = ee.Image('MODIS/006/MCD12Q1/2014_01_01').select('LC_Type1')\n",
        "lc15 = ee.Image('MODIS/006/MCD12Q1/2015_01_01').select('LC_Type1')\n",
        "lc16 = ee.Image('MODIS/006/MCD12Q1/2016_01_01').select('LC_Type1')\n",
        "lc17 = ee.Image('MODIS/006/MCD12Q1/2017_01_01').select('LC_Type1')\n",
        "lc18 = ee.Image('MODIS/006/MCD12Q1/2018_01_01').select('LC_Type1')\n",
        "lc19 = ee.Image('MODIS/006/MCD12Q1/2019_01_01').select('LC_Type1')\n",
        "lc20 = ee.Image('MODIS/006/MCD12Q1/2020_01_01').select('LC_Type1')\n",
        "\n",
        "\n",
        "\n",
        "# Calculate pixel areas\n",
        "areaImage = ee.Image.pixelArea().addBands(lc14)\n",
        "\n",
        "# Reduce the region to get summed areas\n",
        "areas = areaImage.reduceRegion(\n",
        "    reducer=ee.Reducer.sum().group(groupField=1, groupName='class'),\n",
        "    geometry=fc.geometry(),\n",
        "    scale=500,\n",
        "    maxPixels=1e10\n",
        ")\n",
        "\n",
        "# Print the result\n",
        "print(areas.getInfo())\n",
        "\n",
        "groups = areas.getInfo()['groups']\n",
        "\n",
        "# Inizializza un nuovo dizionario per le aree sommate\n",
        "summed_areas = { '1-5': 0, '6-7': 0, '8-9-16': 0, '12-14': 0 ,'10':0, '11':0, '15': 0}\n",
        "\n",
        "# Itera attraverso tutti i gruppi e somma le aree per le classi pertinenti\n",
        "for group in groups:\n",
        "    clazz = group['class']\n",
        "    group['sum'] = group['sum']/ 1000000  # convert from m2 to km2\n",
        "    if clazz in [1, 2, 3, 4, 5]:\n",
        "        summed_areas['1-5'] += group['sum']\n",
        "    elif clazz in [6, 7]:\n",
        "        summed_areas['6-7'] += group['sum']\n",
        "    elif clazz in [8, 9, 16]:\n",
        "        summed_areas['8-9-16'] += group['sum']\n",
        "    elif clazz in [12, 14]:\n",
        "        summed_areas['12-14'] += group['sum']\n",
        "    elif clazz in [10]:\n",
        "        summed_areas['10'] += group['sum']\n",
        "    elif clazz in [11]:\n",
        "        summed_areas['11'] += group['sum']\n",
        "    elif clazz in [15]:\n",
        "        summed_areas['15'] += group['sum']\n",
        "\n",
        "\n",
        "# Print the summed areas\n",
        "print(summed_areas)\n",
        "\n",
        "\n",
        "# Salvare il dizionario in un file CSV\n",
        "with open('/gdrive/MyDrive/G20/summed_areasYEAR.csv', 'w', newline='') as f:\n",
        "    writer = csv.writer(f)\n",
        "    writer.writerow(['Class', 'Area'])\n",
        "    for key, value in summed_areas.items():\n",
        "        writer.writerow([key, value])"
      ],
      "metadata": {
        "id": "9jrnegyaWTCr",
        "colab": {
          "base_uri": "https://localhost:8080/",
          "height": 54
        },
        "outputId": "1b32269a-4211-484c-dbf6-45c2061a4425"
      },
      "execution_count": 20,
      "outputs": [
        {
          "output_type": "display_data",
          "data": {
            "text/plain": [
              "<IPython.core.display.HTML object>"
            ],
            "text/html": [
              "\n",
              "            <style>\n",
              "                .geemap-dark {\n",
              "                    --jp-widgets-color: white;\n",
              "                    --jp-widgets-label-color: white;\n",
              "                    --jp-ui-font-color1: white;\n",
              "                    --jp-layout-color2: #454545;\n",
              "                    background-color: #383838;\n",
              "                }\n",
              "\n",
              "                .geemap-dark .jupyter-button {\n",
              "                    --jp-layout-color3: #383838;\n",
              "                }\n",
              "\n",
              "                .geemap-colab {\n",
              "                    background-color: var(--colab-primary-surface-color, white);\n",
              "                }\n",
              "\n",
              "                .geemap-colab .jupyter-button {\n",
              "                    --jp-layout-color3: var(--colab-primary-surface-color, white);\n",
              "                }\n",
              "            </style>\n",
              "            "
            ]
          },
          "metadata": {}
        },
        {
          "output_type": "stream",
          "name": "stdout",
          "text": [
            "{'groups': [{'class': 1, 'sum': 309980291.4876225}, {'class': 2, 'sum': 3533992334757.3857}, {'class': 4, 'sum': 46283395108.926895}, {'class': 5, 'sum': 5124016513.336519}, {'class': 6, 'sum': 43589139744.15362}, {'class': 7, 'sum': 3595515855.2227325}, {'class': 8, 'sum': 389069629629.309}, {'class': 9, 'sum': 2089060513388.6626}, {'class': 10, 'sum': 1807128008565.1658}, {'class': 11, 'sum': 59962619903.20342}, {'class': 12, 'sum': 286494945558.9042}, {'class': 13, 'sum': 39722254017.48277}, {'class': 14, 'sum': 83534346409.29033}, {'class': 16, 'sum': 3117226010.5401964}, {'class': 17, 'sum': 79723507550.9369}]}\n"
          ]
        }
      ]
    },
    {
      "cell_type": "code",
      "source": [
        "import csv\n",
        "import os\n",
        "\n",
        "# A dictionary of images for each year.\n",
        "lc = {\n",
        "     '2003': ee.Image('MODIS/006/MCD12Q1/2003_01_01').select('LC_Type1'),\n",
        "     '2004': ee.Image('MODIS/006/MCD12Q1/2004_01_01').select('LC_Type1'),\n",
        "     '2005': ee.Image('MODIS/006/MCD12Q1/2005_01_01').select('LC_Type1'),\n",
        "     '2006': ee.Image('MODIS/006/MCD12Q1/2006_01_01').select('LC_Type1'),\n",
        "     '2007': ee.Image('MODIS/006/MCD12Q1/2007_01_01').select('LC_Type1'),\n",
        "     '2008': ee.Image('MODIS/006/MCD12Q1/2008_01_01').select('LC_Type1'),\n",
        "     '2009': ee.Image('MODIS/006/MCD12Q1/2009_01_01').select('LC_Type1'),\n",
        "     '2010': ee.Image('MODIS/006/MCD12Q1/2010_01_01').select('LC_Type1'),\n",
        "     '2011': ee.Image('MODIS/006/MCD12Q1/2011_01_01').select('LC_Type1'),\n",
        "     '2012': ee.Image('MODIS/006/MCD12Q1/2012_01_01').select('LC_Type1'),\n",
        "     '2013': ee.Image('MODIS/006/MCD12Q1/2013_01_01').select('LC_Type1'),\n",
        "     '2014': ee.Image('MODIS/006/MCD12Q1/2014_01_01').select('LC_Type1'),\n",
        "     '2015': ee.Image('MODIS/006/MCD12Q1/2015_01_01').select('LC_Type1'),\n",
        "     '2016': ee.Image('MODIS/006/MCD12Q1/2016_01_01').select('LC_Type1'),\n",
        "     '2017': ee.Image('MODIS/006/MCD12Q1/2017_01_01').select('LC_Type1'),\n",
        "     '2018': ee.Image('MODIS/006/MCD12Q1/2018_01_01').select('LC_Type1'),\n",
        "     '2019': ee.Image('MODIS/006/MCD12Q1/2019_01_01').select('LC_Type1'),\n",
        "     '2020': ee.Image('MODIS/006/MCD12Q1/2020_01_01').select('LC_Type1'),\n",
        "}\n",
        "\n",
        "# Drive link\n",
        "drive_link = '/gdrive/MyDrive/G20/'\n",
        "\n",
        "# process each year\n",
        "for year, image in lc.items():\n",
        "\n",
        "    # Calculate pixel areas\n",
        "    areaImage = ee.Image.pixelArea().addBands(image)\n",
        "\n",
        "    # Reduce the region to get summed areas\n",
        "    areas = areaImage.reduceRegion(\n",
        "        reducer=ee.Reducer.sum().group(groupField=1, groupName='class'),\n",
        "        geometry=fc.geometry(),\n",
        "        scale=500,\n",
        "        maxPixels=1e10\n",
        "    )\n",
        "\n",
        "    groups = areas.getInfo()['groups']\n",
        "\n",
        "    # Initialize a new dictionary for the summed areas\n",
        "    summed_areas = { '1-5': 0, '6-7': 0, '8-9-16': 0, '12-14': 0 ,'10':0, '11':0, '15': 0}\n",
        "\n",
        "    # Itera attraverso tutti i gruppi e somma le aree per le classi pertinenti\n",
        "    for group in groups:\n",
        "        clazz = group['class']\n",
        "        group['sum'] = group['sum']/ 1000000  # convert from m2 to km2\n",
        "        if clazz in [1, 2, 3, 4, 5]:\n",
        "            summed_areas['1-5'] += group['sum']\n",
        "        elif clazz in [6, 7]:\n",
        "            summed_areas['6-7'] += group['sum']\n",
        "        elif clazz in [8, 9, 16]:\n",
        "            summed_areas['8-9-16'] += group['sum']\n",
        "        elif clazz in [12, 14]:\n",
        "            summed_areas['12-14'] += group['sum']\n",
        "        elif clazz in [10]:\n",
        "            summed_areas['10'] += group['sum']\n",
        "        elif clazz in [11]:\n",
        "            summed_areas['11'] += group['sum']\n",
        "        elif clazz in [15]:\n",
        "            summed_areas['15'] += group['sum']\n",
        "\n",
        "    # Save the summed areas to a CSV file\n",
        "    with open(os.path.join(drive_link, f'summed_areas_{year}.csv'), 'w', newline='') as f:\n",
        "        writer = csv.writer(f)\n",
        "        writer.writerow(['Class', 'Area'])\n",
        "        for key, value in summed_areas.items():\n",
        "            writer.writerow([key, value])"
      ],
      "metadata": {
        "id": "cC82OfGu_k2k",
        "outputId": "a47ec8f4-c424-4d6f-c030-fde78290fa26",
        "colab": {
          "base_uri": "https://localhost:8080/",
          "height": 17
        }
      },
      "execution_count": 30,
      "outputs": [
        {
          "output_type": "display_data",
          "data": {
            "text/plain": [
              "<IPython.core.display.HTML object>"
            ],
            "text/html": [
              "\n",
              "            <style>\n",
              "                .geemap-dark {\n",
              "                    --jp-widgets-color: white;\n",
              "                    --jp-widgets-label-color: white;\n",
              "                    --jp-ui-font-color1: white;\n",
              "                    --jp-layout-color2: #454545;\n",
              "                    background-color: #383838;\n",
              "                }\n",
              "\n",
              "                .geemap-dark .jupyter-button {\n",
              "                    --jp-layout-color3: #383838;\n",
              "                }\n",
              "\n",
              "                .geemap-colab {\n",
              "                    background-color: var(--colab-primary-surface-color, white);\n",
              "                }\n",
              "\n",
              "                .geemap-colab .jupyter-button {\n",
              "                    --jp-layout-color3: var(--colab-primary-surface-color, white);\n",
              "                }\n",
              "            </style>\n",
              "            "
            ]
          },
          "metadata": {}
        }
      ]
    },
    {
      "cell_type": "code",
      "source": [
        "import pandas as pd\n",
        "import matplotlib.pyplot as plt\n",
        "import glob\n",
        "\n",
        "# The path to your CSV files\n",
        "path = \"/gdrive/MyDrive/G20\"\n",
        "\n",
        "# Get a list of all the CSV files\n",
        "all_files = sorted(glob.glob(f\"{path}/summed_areas_*.csv\"))\n",
        "\n",
        "# A dictionary to accumulate the data for each class\n",
        "data = {}\n",
        "\n",
        "# Loop through all the files\n",
        "for filename in all_files:\n",
        "    # Get the year from the filename\n",
        "    year = filename.split('_')[-1].split('.')[0]\n",
        "\n",
        "    # Load the current file into a dataframe\n",
        "    df = pd.read_csv(filename)\n",
        "    print(df)\n",
        "    # Loop through each row (class) in the dataframe\n",
        "    for _, row in df.iterrows():\n",
        "        # If the class is not already in the data dictionary, add it\n",
        "        if row['Class'] not in data:\n",
        "            data[row['Class']] = {}\n",
        "        # Add the area for the current class for this year\n",
        "        data[row['Class']][year] = row['Area']\n",
        "\n",
        "# Make a dataframe from the accumulated data\n",
        "df = pd.DataFrame(data)\n",
        "\n",
        "# Plot the dataframe\n",
        "df.plot(kind='line', title='Change in Land Coverage Over Time')\n",
        "plt.show()"
      ],
      "metadata": {
        "id": "KxGC9RyCE7CA",
        "outputId": "77c27e76-8c9d-40bb-9e45-706c5b75cb27",
        "colab": {
          "base_uri": "https://localhost:8080/",
          "height": 1000
        }
      },
      "execution_count": 36,
      "outputs": [
        {
          "output_type": "display_data",
          "data": {
            "text/plain": [
              "<IPython.core.display.HTML object>"
            ],
            "text/html": [
              "\n",
              "            <style>\n",
              "                .geemap-dark {\n",
              "                    --jp-widgets-color: white;\n",
              "                    --jp-widgets-label-color: white;\n",
              "                    --jp-ui-font-color1: white;\n",
              "                    --jp-layout-color2: #454545;\n",
              "                    background-color: #383838;\n",
              "                }\n",
              "\n",
              "                .geemap-dark .jupyter-button {\n",
              "                    --jp-layout-color3: #383838;\n",
              "                }\n",
              "\n",
              "                .geemap-colab {\n",
              "                    background-color: var(--colab-primary-surface-color, white);\n",
              "                }\n",
              "\n",
              "                .geemap-colab .jupyter-button {\n",
              "                    --jp-layout-color3: var(--colab-primary-surface-color, white);\n",
              "                }\n",
              "            </style>\n",
              "            "
            ]
          },
          "metadata": {}
        },
        {
          "output_type": "stream",
          "name": "stdout",
          "text": [
            "    Class          Area\n",
            "0     1-5  3.745797e+06\n",
            "1     6-7  5.545335e+04\n",
            "2  8-9-16  2.433815e+06\n",
            "3   12-14  3.112496e+05\n",
            "4      10  1.750164e+06\n",
            "5      11  5.506394e+04\n",
            "6      15  0.000000e+00\n",
            "    Class          Area\n",
            "0     1-5  3.726132e+06\n",
            "1     6-7  5.428568e+04\n",
            "2  8-9-16  2.440712e+06\n",
            "3   12-14  3.158624e+05\n",
            "4      10  1.758771e+06\n",
            "5      11  5.493950e+04\n",
            "6      15  0.000000e+00\n",
            "    Class          Area\n",
            "0     1-5  3.696874e+06\n",
            "1     6-7  5.433361e+04\n",
            "2  8-9-16  2.455999e+06\n",
            "3   12-14  3.210753e+05\n",
            "4      10  1.766831e+06\n",
            "5      11  5.509158e+04\n",
            "6      15  0.000000e+00\n",
            "    Class          Area\n",
            "0     1-5  3.668742e+06\n",
            "1     6-7  5.370135e+04\n",
            "2  8-9-16  2.475725e+06\n",
            "3   12-14  3.271341e+05\n",
            "4      10  1.769055e+06\n",
            "5      11  5.567936e+04\n",
            "6      15  0.000000e+00\n",
            "    Class          Area\n",
            "0     1-5  3.652398e+06\n",
            "1     6-7  5.330889e+04\n",
            "2  8-9-16  2.485936e+06\n",
            "3   12-14  3.334240e+05\n",
            "4      10  1.768629e+06\n",
            "5      11  5.634461e+04\n",
            "6      15  0.000000e+00\n",
            "    Class          Area\n",
            "0     1-5  3.642726e+06\n",
            "1     6-7  5.100114e+04\n",
            "2  8-9-16  2.499062e+06\n",
            "3   12-14  3.392357e+05\n",
            "4      10  1.761222e+06\n",
            "5      11  5.690539e+04\n",
            "6      15  0.000000e+00\n",
            "    Class          Area\n",
            "0     1-5  3.635350e+06\n",
            "1     6-7  4.834402e+04\n",
            "2  8-9-16  2.513787e+06\n",
            "3   12-14  3.428166e+05\n",
            "4      10  1.752648e+06\n",
            "5      11  5.715248e+04\n",
            "6      15  0.000000e+00\n",
            "    Class          Area\n",
            "0     1-5  3.624666e+06\n",
            "1     6-7  4.636835e+04\n",
            "2  8-9-16  2.512109e+06\n",
            "3   12-14  3.465609e+05\n",
            "4      10  1.762901e+06\n",
            "5      11  5.766232e+04\n",
            "6      15  0.000000e+00\n",
            "    Class          Area\n",
            "0     1-5  3.610802e+06\n",
            "1     6-7  4.368110e+04\n",
            "2  8-9-16  2.522536e+06\n",
            "3   12-14  3.529572e+05\n",
            "4      10  1.761956e+06\n",
            "5      11  5.841350e+04\n",
            "6      15  0.000000e+00\n",
            "    Class          Area\n",
            "0     1-5  3.591930e+06\n",
            "1     6-7  4.477070e+04\n",
            "2  8-9-16  2.520895e+06\n",
            "3   12-14  3.574737e+05\n",
            "4      10  1.776473e+06\n",
            "5      11  5.898214e+04\n",
            "6      15  0.000000e+00\n",
            "    Class          Area\n",
            "0     1-5  3.587715e+06\n",
            "1     6-7  4.534366e+04\n",
            "2  8-9-16  2.507422e+06\n",
            "3   12-14  3.645881e+05\n",
            "4      10  1.786602e+06\n",
            "5      11  5.935219e+04\n",
            "6      15  0.000000e+00\n",
            "    Class          Area\n",
            "0     1-5  3.585710e+06\n",
            "1     6-7  4.718466e+04\n",
            "2  8-9-16  2.481247e+06\n",
            "3   12-14  3.700293e+05\n",
            "4      10  1.807128e+06\n",
            "5      11  5.996262e+04\n",
            "6      15  0.000000e+00\n",
            "    Class          Area\n",
            "0     1-5  3.578580e+06\n",
            "1     6-7  5.049726e+04\n",
            "2  8-9-16  2.447674e+06\n",
            "3   12-14  3.747092e+05\n",
            "4      10  1.839476e+06\n",
            "5      11  6.087996e+04\n",
            "6      15  0.000000e+00\n",
            "    Class          Area\n",
            "0     1-5  3.561771e+06\n",
            "1     6-7  5.296964e+04\n",
            "2  8-9-16  2.420541e+06\n",
            "3   12-14  3.791124e+05\n",
            "4      10  1.875479e+06\n",
            "5      11  6.215118e+04\n",
            "6      15  0.000000e+00\n",
            "    Class          Area\n",
            "0     1-5  3.564175e+06\n",
            "1     6-7  4.986686e+04\n",
            "2  8-9-16  2.375172e+06\n",
            "3   12-14  3.957248e+05\n",
            "4      10  1.905721e+06\n",
            "5      11  6.158952e+04\n",
            "6      15  0.000000e+00\n",
            "    Class          Area\n",
            "0     1-5  3.561449e+06\n",
            "1     6-7  4.071187e+04\n",
            "2  8-9-16  2.356232e+06\n",
            "3   12-14  4.007221e+05\n",
            "4      10  1.929850e+06\n",
            "5      11  6.300816e+04\n",
            "6      15  0.000000e+00\n",
            "    Class          Area\n",
            "0     1-5  3.563738e+06\n",
            "1     6-7  3.788158e+04\n",
            "2  8-9-16  2.363012e+06\n",
            "3   12-14  4.041873e+05\n",
            "4      10  1.920001e+06\n",
            "5      11  6.288961e+04\n",
            "6      15  0.000000e+00\n",
            "    Class          Area\n",
            "0     1-5  3.567532e+06\n",
            "1     6-7  3.085027e+04\n",
            "2  8-9-16  2.403113e+06\n",
            "3   12-14  4.190201e+05\n",
            "4      10  1.869645e+06\n",
            "5      11  6.109451e+04\n",
            "6      15  0.000000e+00\n"
          ]
        },
        {
          "output_type": "display_data",
          "data": {
            "text/plain": [
              "<Figure size 640x480 with 1 Axes>"
            ],
            "image/png": "[encoded data removed]"
          },
          "metadata": {}
        }
      ]
    },
    {
      "cell_type": "code",
      "source": [
        "import pandas as pd\n",
        "import matplotlib.pyplot as plt\n",
        "import glob\n",
        "\n",
        "# The path to your CSV files\n",
        "path = \"/gdrive/MyDrive/G20\"\n",
        "\n",
        "# Get a list of all the CSV files\n",
        "all_files = sorted(glob.glob(f\"{path}/summed_areas_*.csv\"))\n",
        "\n",
        "# A dictionary to accumulate the data for each class\n",
        "data = {}\n",
        "\n",
        "# Loop through all the files\n",
        "for filename in all_files:\n",
        "    # Get the year from the filename\n",
        "    year = filename.split('_')[-1].split('.')[0]\n",
        "\n",
        "    # Load the current file into a dataframe\n",
        "    df = pd.read_csv(filename)\n",
        "\n",
        "    # Loop through each row (class) in the dataframe\n",
        "    for _, row in df.iterrows():\n",
        "        # If the class is not already in the data dictionary, add it\n",
        "        if row['Class'] not in data:\n",
        "            data[row['Class']] = {}\n",
        "\n",
        "        # Add the area for the current class for this year\n",
        "        data[row['Class']][year] = row['Area']\n",
        "\n",
        "# Make a dataframe from the accumulated data\n",
        "df = pd.DataFrame(data)\n",
        "\n",
        "# Loop over each class (column)\n",
        "for col in df.columns:\n",
        "\n",
        "    # Plot the data for current class\n",
        "    df[col].plot(kind='line')\n",
        "\n",
        "    # Set title and labels\n",
        "    plt.title(f'Change in {col} Over Time')\n",
        "    plt.xlabel('Year')\n",
        "    plt.ylabel('Area in km2')\n",
        "\n",
        "    # Show the plot\n",
        "    plt.show()"
      ],
      "metadata": {
        "id": "hb0EoKG5GHzq",
        "outputId": "ed027c53-0b78-4d2a-a4a4-301073a0c4fa",
        "colab": {
          "base_uri": "https://localhost:8080/",
          "height": 1000
        }
      },
      "execution_count": 37,
      "outputs": [
        {
          "output_type": "display_data",
          "data": {
            "text/plain": [
              "<IPython.core.display.HTML object>"
            ],
            "text/html": [
              "\n",
              "            <style>\n",
              "                .geemap-dark {\n",
              "                    --jp-widgets-color: white;\n",
              "                    --jp-widgets-label-color: white;\n",
              "                    --jp-ui-font-color1: white;\n",
              "                    --jp-layout-color2: #454545;\n",
              "                    background-color: #383838;\n",
              "                }\n",
              "\n",
              "                .geemap-dark .jupyter-button {\n",
              "                    --jp-layout-color3: #383838;\n",
              "                }\n",
              "\n",
              "                .geemap-colab {\n",
              "                    background-color: var(--colab-primary-surface-color, white);\n",
              "                }\n",
              "\n",
              "                .geemap-colab .jupyter-button {\n",
              "                    --jp-layout-color3: var(--colab-primary-surface-color, white);\n",
              "                }\n",
              "            </style>\n",
              "            "
            ]
          },
          "metadata": {}
        },
        {
          "output_type": "display_data",
          "data": {
            "text/plain": [
              "<Figure size 640x480 with 1 Axes>"
            ],
            "image/png": "[encoded data removed]"
          },
          "metadata": {}
        },
        {
          "output_type": "display_data",
          "data": {
            "text/plain": [
              "<Figure size 640x480 with 1 Axes>"
            ],
            "image/png": "[encoded data removed]"
          },
          "metadata": {}
        },
        {
          "output_type": "display_data",
          "data": {
            "text/plain": [
              "<Figure size 640x480 with 1 Axes>"
            ],
            "image/png": "[encoded data removed]"
          },
          "metadata": {}
        },
        {
          "output_type": "display_data",
          "data": {
            "text/plain": [
              "<Figure size 640x480 with 1 Axes>"
            ],
            "image/png": "[encoded data removed]"
          },
          "metadata": {}
        },
        {
          "output_type": "display_data",
          "data": {
            "text/plain": [
              "<Figure size 640x480 with 1 Axes>"
            ],
            "image/png": "[encoded data removed]"
          },
          "metadata": {}
        },
        {
          "output_type": "display_data",
          "data": {
            "text/plain": [
              "<Figure size 640x480 with 1 Axes>"
            ],
            "image/png": "[encoded data removed]"
          },
          "metadata": {}
        },
        {
          "output_type": "display_data",
          "data": {
            "text/plain": [
              "<Figure size 640x480 with 1 Axes>"
            ],
            "image/png": "[encoded data removed]"
          },
          "metadata": {}
        }
      ]
    },
    {
      "cell_type": "code",
      "source": [
        "print(os.getcwd())"
      ],
      "metadata": {
        "id": "EINto09m-7vp",
        "outputId": "0665cc51-d526-4b53-83a5-770797b42979",
        "colab": {
          "base_uri": "https://localhost:8080/",
          "height": 34
        }
      },
      "execution_count": 26,
      "outputs": [
        {
          "output_type": "display_data",
          "data": {
            "text/plain": [
              "<IPython.core.display.HTML object>"
            ],
            "text/html": [
              "\n",
              "            <style>\n",
              "                .geemap-dark {\n",
              "                    --jp-widgets-color: white;\n",
              "                    --jp-widgets-label-color: white;\n",
              "                    --jp-ui-font-color1: white;\n",
              "                    --jp-layout-color2: #454545;\n",
              "                    background-color: #383838;\n",
              "                }\n",
              "\n",
              "                .geemap-dark .jupyter-button {\n",
              "                    --jp-layout-color3: #383838;\n",
              "                }\n",
              "\n",
              "                .geemap-colab {\n",
              "                    background-color: var(--colab-primary-surface-color, white);\n",
              "                }\n",
              "\n",
              "                .geemap-colab .jupyter-button {\n",
              "                    --jp-layout-color3: var(--colab-primary-surface-color, white);\n",
              "                }\n",
              "            </style>\n",
              "            "
            ]
          },
          "metadata": {}
        },
        {
          "output_type": "stream",
          "name": "stdout",
          "text": [
            "/gdrive/.shortcut-targets-by-id/1c-3kX3SnlFERtZsMmgo1CczCIJ8F4T8m/Data\n"
          ]
        }
      ]
    },
    {
      "cell_type": "code",
      "source": [
        "groups = areas.getInfo()['groups']\n",
        "\n",
        "# Inizializza un nuovo dizionario per le aree sommate\n",
        "summed_areas = { '1-5': 0, '6-7': 0, '8-9-16': 0, '12-14': 0 ,'10':0, '11':0, '15': 0}\n",
        "\n",
        "# Itera attraverso tutti i gruppi e somma le aree per le classi pertinenti\n",
        "for group in groups:\n",
        "    clazz = group['class']\n",
        "    if clazz in [1, 2, 3, 4, 5]:\n",
        "        summed_areas['1-5'] += group['sum']\n",
        "    elif clazz in [6, 7]:\n",
        "        summed_areas['6-7'] += group['sum']\n",
        "    elif clazz in [8, 9, 16]:\n",
        "        summed_areas['8-9-16'] += group['sum']\n",
        "    elif clazz in [12, 14]:\n",
        "        summed_areas['12-14'] += group['sum']\n",
        "    elif clazz in [10]:\n",
        "        summed_areas['10'] += group['sum']\n",
        "    elif clazz in [11]:\n",
        "        summed_areas['11'] += group['sum']\n",
        "    elif clazz in [15]:\n",
        "        summed_areas['15'] += group['sum']\n",
        "\n",
        "\n",
        "# Print the summed areas\n",
        "print(summed_areas)\n",
        "\n",
        "\n",
        "# Salvare il dizionario in un file CSV\n",
        "with open('/gdrive/MyDrive/G20/summed_areas.csv', 'w', newline='') as f:\n",
        "    writer = csv.writer(f)\n",
        "    writer.writerow(['Class', 'Area'])\n",
        "    for key, value in summed_areas.items():\n",
        "        writer.writerow([key, value])"
      ],
      "metadata": {
        "id": "9ymnsnEf4OKL",
        "outputId": "e0e89253-f7fe-4dc9-9562-b39c3b269247",
        "colab": {
          "base_uri": "https://localhost:8080/",
          "height": 54
        }
      },
      "execution_count": 27,
      "outputs": [
        {
          "output_type": "display_data",
          "data": {
            "text/plain": [
              "<IPython.core.display.HTML object>"
            ],
            "text/html": [
              "\n",
              "            <style>\n",
              "                .geemap-dark {\n",
              "                    --jp-widgets-color: white;\n",
              "                    --jp-widgets-label-color: white;\n",
              "                    --jp-ui-font-color1: white;\n",
              "                    --jp-layout-color2: #454545;\n",
              "                    background-color: #383838;\n",
              "                }\n",
              "\n",
              "                .geemap-dark .jupyter-button {\n",
              "                    --jp-layout-color3: #383838;\n",
              "                }\n",
              "\n",
              "                .geemap-colab {\n",
              "                    background-color: var(--colab-primary-surface-color, white);\n",
              "                }\n",
              "\n",
              "                .geemap-colab .jupyter-button {\n",
              "                    --jp-layout-color3: var(--colab-primary-surface-color, white);\n",
              "                }\n",
              "            </style>\n",
              "            "
            ]
          },
          "metadata": {}
        },
        {
          "output_type": "stream",
          "name": "stdout",
          "text": [
            "{'1-5': 3585709726671.1367, '6-7': 47184655599.37635, '8-9-16': 2481247369028.5117, '12-14': 370029291968.1945, '10': 1807128008565.1658, '11': 59962619903.20342, '15': 0}\n"
          ]
        }
      ]
    },
    {
      "cell_type": "markdown",
      "source": [
        "Now, let's pull a time series vizualization of the landcover in Brazil"
      ],
      "metadata": {
        "id": "uDU2Ecpy3RbF"
      }
    },
    {
      "cell_type": "markdown",
      "source": [
        "\n",
        "\n",
        "1.   This is the long code to help you understand the process\n",
        "\n"
      ],
      "metadata": {
        "id": "QGv1UASmDOIM"
      }
    },
    {
      "cell_type": "code",
      "source": [
        "Map = geemap.Map()\n",
        "\n",
        "lc03 = ee.Image('MODIS/006/MCD12Q1/2003_01_01').select('LC_Type1')\n",
        "lc14 = ee.Image('MODIS/006/MCD12Q1/2014_01_01').select('LC_Type1')\n",
        "lc15 = ee.Image('MODIS/006/MCD12Q1/2015_01_01').select('LC_Type1')\n",
        "lc16 = ee.Image('MODIS/006/MCD12Q1/2016_01_01').select('LC_Type1')\n",
        "lc17 = ee.Image('MODIS/006/MCD12Q1/2017_01_01').select('LC_Type1')\n",
        "lc18 = ee.Image('MODIS/006/MCD12Q1/2018_01_01').select('LC_Type1')\n",
        "lc19 = ee.Image('MODIS/006/MCD12Q1/2019_01_01').select('LC_Type1')\n",
        "lc20 = ee.Image('MODIS/006/MCD12Q1/2020_01_01').select('LC_Type1')\n",
        "\n",
        "igbpLandCoverVis = {\n",
        "    'min': 1.0,\n",
        "    'max': 17.0,\n",
        "    'palette': [\n",
        "        '05450a',\n",
        "        '086a10',\n",
        "        '54a708',\n",
        "        '78d203',\n",
        "        '009900',\n",
        "        'c6b044',\n",
        "        'dcd159',\n",
        "        'dade48',\n",
        "        'fbff13',\n",
        "        'b6ff05',\n",
        "        '27ff87',\n",
        "        'c24f44',\n",
        "        'a5a5a5',\n",
        "        'ff6d4c',\n",
        "        '69fff8',\n",
        "        'f9ffa4',\n",
        "        '1c0dff',\n",
        "    ],\n",
        "}\n",
        "brazil_lc03 = lc03.clip(brazil_shapefile)\n",
        "brazil_lc14 = lc14.clip(brazil_shapefile)\n",
        "brazil_lc15 = lc15.clip(brazil_shapefile)\n",
        "brazil_lc16 = lc16.clip(brazil_shapefile)\n",
        "brazil_lc17 = lc17.clip(brazil_shapefile)\n",
        "brazil_lc18 = lc18.clip(brazil_shapefile)\n",
        "brazil_lc19 = lc19.clip(brazil_shapefile)\n",
        "brazil_lc20 = lc20.clip(brazil_shapefile)\n",
        "\n",
        "Map.setCenter(-55, -10, 4)\n",
        "Map.addLayer(brazil_lc14, igbpLandCoverVis, 'MODIS Land Cover 2014')\n",
        "Map.addLayer(brazil_lc15, igbpLandCoverVis, 'MODIS Land Cover 2015')\n",
        "Map.addLayer(brazil_lc16, igbpLandCoverVis, 'MODIS Land Cover 2016')\n",
        "Map.addLayer(brazil_lc17, igbpLandCoverVis, 'MODIS Land Cover 2017')\n",
        "Map.addLayer(brazil_lc18, igbpLandCoverVis, 'MODIS Land Cover 2018')\n",
        "Map.addLayer(brazil_lc19, igbpLandCoverVis, 'MODIS Land Cover 2019')\n",
        "Map.addLayer(brazil_lc20, igbpLandCoverVis, 'MODIS Land Cover 2020')\n",
        "\n",
        "Map.addLayerControl()\n",
        "\n",
        "Map"
      ],
      "metadata": {
        "id": "fPRp6lIzAIkT",
        "colab": {
          "base_uri": "https://localhost:8080/",
          "height": 621,
          "referenced_widgets": [
            "85a07089ff8c4fbcb9cf39e72cf2892f",
            "f2d25fc565064f08947b748bbc919343",
            "1f4ed3c0695348da91c94afdab91e60f",
            "28ddf8ffc62d4299bc87956df2f91cb4",
            "b932fc2987974d2fb40a37d5750c7023",
            "c1ca0d0704ee4f13b4802bfbc7fa67db",
            "bd840d6dbf5e4041be9bc25490162f43",
            "a4cfaf53f5aa418ba1dc4cf7c87aad18",
            "981e1524ce0141a3ae09481cd4d9944e",
            "ee95024d9632422083be1a0df6fb6858",
            "7e6bb7d294274f57a4c382f120127ce0",
            "ad0d463844844d3e9e979d8f191ca9b4",
            "c1febcf1e6bf4d37bb22d24b2c3c863c",
            "723e2def7e754a94aec1a7fb55942a7a",
            "64af3877a3e248bc89e165599157995a",
            "ef21381521fa4494a6d288fc59dee84a",
            "aba4141b1c074db399345bb47c557cea",
            "4ee8a2faac474f72b502a552682724a1",
            "d7655c95372d47cda72d399e920d7853",
            "f36508d1ee7f46cfa95be733447b9723",
            "96d6a6cc5c5b45ef8af375ac7b6f5d1d",
            "8508f14c19f04862aa8022695f0ee478",
            "5b85c6cffe154c69922958da2b9238d9",
            "82701a4a18bc4390bfd9d2b27f6f3ded",
            "951c752a5a2c4b86a53340d675c43899",
            "e86e07449ca44763b923998f77cd03c6",
            "d32931d7433a441ca4a8938faecdc6a9",
            "e978e60e25884f4fa338fefe11000fd4",
            "e68a1ef6a5ef4db6ae53475568e5dfa8",
            "94d9a968858741ff96a82b495a609a09",
            "cb914e037c84407fafc0eaccab187caf",
            "56f24c14cd6845dfbb422557a9f7df15",
            "5dca74e531fc45ea95aedf49a26dc1a9"
          ]
        },
        "outputId": "17c2cd5b-2e6e-458e-976c-a1a131cef3cc"
      },
      "execution_count": null,
      "outputs": [
        {
          "output_type": "display_data",
          "data": {
            "text/plain": [
              "<IPython.core.display.HTML object>"
            ],
            "text/html": [
              "\n",
              "            <style>\n",
              "                .geemap-dark {\n",
              "                    --jp-widgets-color: white;\n",
              "                    --jp-widgets-label-color: white;\n",
              "                    --jp-ui-font-color1: white;\n",
              "                    --jp-layout-color2: #454545;\n",
              "                    background-color: #383838;\n",
              "                }\n",
              "\n",
              "                .geemap-dark .jupyter-button {\n",
              "                    --jp-layout-color3: #383838;\n",
              "                }\n",
              "\n",
              "                .geemap-colab {\n",
              "                    background-color: var(--colab-primary-surface-color, white);\n",
              "                }\n",
              "\n",
              "                .geemap-colab .jupyter-button {\n",
              "                    --jp-layout-color3: var(--colab-primary-surface-color, white);\n",
              "                }\n",
              "            </style>\n",
              "            "
            ]
          },
          "metadata": {}
        },
        {
          "output_type": "display_data",
          "data": {
            "text/plain": [
              "Map(center=[-10, -55], controls=(WidgetControl(options=['position', 'transparent_bg'], widget=SearchDataGUI(ch…"
            ],
            "application/vnd.jupyter.widget-view+json": {
              "version_major": 2,
              "version_minor": 0,
              "model_id": "85a07089ff8c4fbcb9cf39e72cf2892f"
            }
          },
          "metadata": {
            "application/vnd.jupyter.widget-view+json": {
              "colab": {
                "custom_widget_manager": {
                  "url": "https://ssl.gstatic.com/colaboratory-static/widgets/colab-cdn-widget-manager/2b70e893a8ba7c0f/manager.min.js"
                }
              }
            }
          }
        }
      ]
    },
    {
      "cell_type": "markdown",
      "source": [
        "NEXT is how you import and add population density to the previous map"
      ],
      "metadata": {
        "id": "6EYXl5QUcZTt"
      }
    },
    {
      "cell_type": "code",
      "source": [
        "dataset = ee.ImageCollection('WorldPop/GP/100m/pop')\n",
        "\n",
        "# Visualization parameters\n",
        "visualization = {\n",
        "  'bands': ['population'],\n",
        "  'min': 0.0,\n",
        "  'max': 50.0,\n",
        "  'palette': ['24126c', '1fff4f', 'd4ff50']\n",
        "}\n",
        "\n",
        "# Set center of the map\n",
        "center = [34.769, 113.643]\n",
        "zoom = 7\n",
        "\n",
        "# Add the layer to the map\n",
        "image = dataset.mean()\n",
        "Map.addLayer(image, visualization, 'Population')\n"
      ],
      "metadata": {
        "colab": {
          "base_uri": "https://localhost:8080/",
          "height": 17
        },
        "id": "6OYXIKuQcJvb",
        "outputId": "606dd10e-4fe1-4e2e-cfbb-a80f8c9a2f2c"
      },
      "execution_count": null,
      "outputs": [
        {
          "output_type": "display_data",
          "data": {
            "text/plain": [
              "<IPython.core.display.HTML object>"
            ],
            "text/html": [
              "\n",
              "            <style>\n",
              "                .geemap-dark {\n",
              "                    --jp-widgets-color: white;\n",
              "                    --jp-widgets-label-color: white;\n",
              "                    --jp-ui-font-color1: white;\n",
              "                    --jp-layout-color2: #454545;\n",
              "                    background-color: #383838;\n",
              "                }\n",
              "\n",
              "                .geemap-dark .jupyter-button {\n",
              "                    --jp-layout-color3: #383838;\n",
              "                }\n",
              "\n",
              "                .geemap-colab {\n",
              "                    background-color: var(--colab-primary-surface-color, white);\n",
              "                }\n",
              "\n",
              "                .geemap-colab .jupyter-button {\n",
              "                    --jp-layout-color3: var(--colab-primary-surface-color, white);\n",
              "                }\n",
              "            </style>\n",
              "            "
            ]
          },
          "metadata": {}
        }
      ]
    },
    {
      "cell_type": "markdown",
      "source": [
        "\n",
        "\n",
        "2.   This is how it looks like when it is more intricate (you might laugh cause it is not at all intricate for you)\n"
      ],
      "metadata": {
        "id": "KKENmcm6DvlQ"
      }
    },
    {
      "cell_type": "code",
      "source": [
        "# Load MODIS land cover images for multiple years\n",
        "years = range(2002, 2021)  # 2002 to 2020\n",
        "lc_images = []\n",
        "\n",
        "for year in years:\n",
        "    lc_image = ee.Image(f\"MODIS/006/MCD12Q1/{year}_01_01\").select('LC_Type1')\n",
        "    lc_images.append(lc_image)\n",
        "\n",
        "# Visualization parameters\n",
        "igbpLandCoverVis = {\n",
        "    'min': 1.0,\n",
        "    'max': 17.0,\n",
        "    'palette': [\n",
        "        '05450a', '086a10', '54a708', '78d203', '009900', 'c6b044',\n",
        "        'dcd159', 'dade48', 'fbff13', 'b6ff05', '27ff87', 'c24f44',\n",
        "        'a5a5a5', 'ff6d4c', '69fff8', 'f9ffa4', '1c0dff'\n",
        "    ]\n",
        "}\n",
        "\n",
        "# Clip the land cover images to Brazil\n",
        "brazil_lc_images = [lc.clip(brazil_shapefile) for lc in lc_images]\n",
        "\n",
        "# Display the land cover images for each year\n",
        "Map = geemap.Map(center=[-10, -55], zoom=4)\n",
        "\n",
        "for i, lc_image in enumerate(brazil_lc_images):\n",
        "    Map.addLayer(lc_image, igbpLandCoverVis, f'MODIS Land Cover {years[i]}')\n",
        "\n",
        "legend_keys = ['Evergreen Needleleaf Forests', 'Evergreen Broadleaf Forests', 'Deciduous Needleleaf Forests', 'Deciduous Broadleaf Forests',\n",
        "               'Mixed Forests', 'Closed Shrublands', 'Open Shrublands', 'Woody Savannas',\n",
        "               'Savannas', 'Grasslands', 'Permanent Wetlands', 'Croplands', 'Urban and Built-up',\n",
        "               'Cropland/Natural Vegetation Mosaics', 'Permanent Snow and Ice', 'Barren', 'Water Bodies']\n",
        "igbpLandCoverVisu = ['05450a', '086a10', '54a708', '78d203', '009900', 'c6b044',\n",
        "        'dcd159', 'dade48', 'fbff13', 'b6ff05', '27ff87', 'c24f44',\n",
        "        'a5a5a5', 'ff6d4c', '69fff8', 'f9ffa4', '1c0dff']\n",
        "\n",
        "Map.add_legend(keys=legend_keys, colors=igbpLandCoverVisu, position='bottomright')\n",
        "Map.addLayerControl()\n",
        "\n",
        "Map\n"
      ],
      "metadata": {
        "id": "EIOFZxIj_efu"
      },
      "execution_count": null,
      "outputs": []
    },
    {
      "cell_type": "markdown",
      "source": [
        "You can also suggest a side by side vizualization of the land cover, allowing one to vizaully assess the extent of degradation over time."
      ],
      "metadata": {
        "id": "4mzvl1Hnx31X"
      }
    },
    {
      "cell_type": "code",
      "source": [
        "Map = geemap.Map(center=[-9, -51], zoom=10)\n",
        "\n",
        "left_layer = geemap.ee_tile_layer(brazil_lc03, igbpLandCoverVis, \"MODIS\")\n",
        "right_layer = geemap.ee_tile_layer(brazil_lc20, igbpLandCoverVis, \"MODIS\")\n",
        "Map.split_map(left_layer, right_layer)\n",
        "Map.add_legend(\n",
        "    title=\"Land cover 2003\", builtin_legend='MODIS/006/MCD12Q1', position='bottomleft'\n",
        ")\n",
        "Map.add_legend(\n",
        "    title=\"Land cover 2020\",\n",
        "    builtin_legend='MODIS/006/MCD12Q1',\n",
        "    position='bottomright',\n",
        ")\n",
        "\n",
        "\n",
        "Map"
      ],
      "metadata": {
        "id": "Zg22Eeb6rjLx"
      },
      "execution_count": null,
      "outputs": []
    },
    {
      "cell_type": "markdown",
      "source": [
        "This part is more fun!!! Using the timeseries tool to compare 20 years of landcover against each other."
      ],
      "metadata": {
        "id": "nZA7_udbBS41"
      }
    },
    {
      "cell_type": "code",
      "source": [
        "col = ee.ImageCollection('MODIS/006/MCD12Q1').select('LC_Type1');"
      ],
      "metadata": {
        "id": "bnKKuOYKAUUb"
      },
      "execution_count": null,
      "outputs": []
    },
    {
      "cell_type": "code",
      "source": [
        "# A FeatureCollection defining Brazil boundary.\n",
        "fc = ee.FeatureCollection('USDOS/LSIB_SIMPLE/2017').filter(\n",
        "    'country_na == \"Brazil\"'\n",
        ")\n",
        "\n",
        "# Clip the DEM by the Southeast Asia boundary FeatureCollection.\n",
        "# Iterate over the ImageCollection and clip each image to the FeatureCollection.\n",
        "col_clip = col.map(lambda img: img.clipToCollection(fc))\n",
        "DOY = col_clip.filterDate('2002-01-01', '2021-01-01');"
      ],
      "metadata": {
        "id": "m_5uA1ZLFSy1"
      },
      "execution_count": null,
      "outputs": []
    },
    {
      "cell_type": "code",
      "source": [
        "distinctDOY = col.filterDate('2002-01-01', '2021-01-01');"
      ],
      "metadata": {
        "id": "PaW3yAVZA2Na"
      },
      "execution_count": null,
      "outputs": []
    },
    {
      "cell_type": "markdown",
      "source": [
        "Check the number of image you have between that range:"
      ],
      "metadata": {
        "id": "u84fwpyJBpvx"
      }
    },
    {
      "cell_type": "code",
      "source": [
        "num_images = distinctDOY.size().getInfo()\n",
        "\n",
        "print(\"Number of images in the collection:\", num_images)"
      ],
      "metadata": {
        "id": "tasAke08_Tco"
      },
      "execution_count": null,
      "outputs": []
    },
    {
      "cell_type": "code",
      "source": [
        "layer_names = ['MODIS ' + str(year) for year in range(2002, 2021)]\n",
        "print(layer_names)"
      ],
      "metadata": {
        "id": "4zzTEdzN71Lk"
      },
      "execution_count": null,
      "outputs": []
    },
    {
      "cell_type": "code",
      "source": [
        "Map = geemap.Map(center=[-9, -51], zoom=10)\n",
        "Map.add_basemap('HYBRID')\n",
        "Map.centerObject(brazil_shapefile)\n",
        "\n",
        "images = geemap.modis_timeseries(asset_id='MODIS/006/MCD12Q1', band_name='LC_Type1', roi=brazil_shapefile,\n",
        "                                 start_year = 2003, end_year = 2021,\n",
        "                                 start_date= '01-01', end_date= '12-31')\n",
        "Map.ts_inspector(left_ts=DOY, left_names=layer_names, left_vis=igbpLandCoverVis, left_index=0,\n",
        "                 right_ts=DOY, right_names=layer_names, right_vis=igbpLandCoverVis, right_index=-1,\n",
        "                 width='130px', date_format='YYYY', add_close_button=False)\n",
        "Map.add_legend(title=\"MODIS Land Cover\", builtin_legend='MODIS/006/MCD12Q1')\n",
        "Map.addLayerControl\n",
        "\n",
        "Map"
      ],
      "metadata": {
        "id": "ch_vVuUZzWcr"
      },
      "execution_count": null,
      "outputs": []
    },
    {
      "cell_type": "markdown",
      "source": [
        "One way to calculate area of a specific Image in Brazil"
      ],
      "metadata": {
        "id": "9egTqVhWXvLn"
      }
    },
    {
      "cell_type": "markdown",
      "source": [
        "THIS IS THE CODE TO VIZUALIZE THE BURNED AREAS"
      ],
      "metadata": {
        "id": "eP1oGDq1L0tK"
      }
    },
    {
      "cell_type": "code",
      "source": [
        "# Define the dataset and filter by date\n",
        "dataset = ee.ImageCollection('MODIS/061/MCD64A1').filter(ee.Filter.date('2017-01-01', '2018-05-01'))\n",
        "burnedArea = dataset.select('BurnDate')\n",
        "\n",
        "# A FeatureCollection defining Brazil boundary.\n",
        "fc = ee.FeatureCollection('USDOS/LSIB_SIMPLE/2017').filter(\n",
        "    'country_na == \"Brazil\"'\n",
        ")\n",
        "\n",
        "# Clip the burned Area by the Brazil boundary FeatureCollection.\n",
        "# Iterate over the ImageCollection and clip each image to the FeatureCollection.\n",
        "ba_clip = burnedArea.map(lambda img: img.clipToCollection(fc))\n",
        "\n",
        "\n",
        "# Visualization parameters\n",
        "burnedAreaVis = {\n",
        "    'min': 30.0,\n",
        "    'max': 341.0,\n",
        "    'palette': ['4e0400', '951003', 'c61503', 'ff1901']\n",
        "}\n",
        "\n",
        "# Create a map\n",
        "Map = geemap.Map(center=[-10, -55], zoom=4)\n",
        "\n",
        "# Add burned area layer to the map\n",
        "Map.addLayer(ba_clip, burnedAreaVis, 'Burned Area')\n",
        "Map.addLayer(brazil_shapefile, name='Brazil',opacity=0.5)\n",
        "Map.addLayerControl()\n",
        "\n",
        "# Display the map\n",
        "Map"
      ],
      "metadata": {
        "id": "5WPydDLRI1TH"
      },
      "execution_count": null,
      "outputs": []
    }
  ]
}